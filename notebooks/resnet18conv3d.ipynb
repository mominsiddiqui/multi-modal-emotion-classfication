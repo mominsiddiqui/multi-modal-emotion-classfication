{
 "cells": [
  {
   "cell_type": "code",
   "execution_count": 1,
   "id": "09344144",
   "metadata": {
    "execution": {
     "iopub.execute_input": "2022-05-01T18:35:51.585229Z",
     "iopub.status.busy": "2022-05-01T18:35:51.584599Z",
     "iopub.status.idle": "2022-05-01T18:36:02.800992Z",
     "shell.execute_reply": "2022-05-01T18:36:02.800164Z"
    },
    "papermill": {
     "duration": 11.236683,
     "end_time": "2022-05-01T18:36:02.803246",
     "exception": false,
     "start_time": "2022-05-01T18:35:51.566563",
     "status": "completed"
    },
    "tags": []
   },
   "outputs": [
    {
     "name": "stdout",
     "output_type": "stream",
     "text": [
      "Collecting openpyxl\r\n",
      "  Downloading openpyxl-3.0.9-py2.py3-none-any.whl (242 kB)\r\n",
      "\u001b[2K     \u001b[90m━━━━━━━━━━━━━━━━━━━━━━━━━━━━━━━━━━━━━━━\u001b[0m \u001b[32m242.2/242.2 KB\u001b[0m \u001b[31m1.4 MB/s\u001b[0m eta \u001b[36m0:00:00\u001b[0m\r\n",
      "\u001b[?25hCollecting et-xmlfile\r\n",
      "  Downloading et_xmlfile-1.1.0-py3-none-any.whl (4.7 kB)\r\n",
      "Installing collected packages: et-xmlfile, openpyxl\r\n",
      "Successfully installed et-xmlfile-1.1.0 openpyxl-3.0.9\r\n",
      "\u001b[33mWARNING: Running pip as the 'root' user can result in broken permissions and conflicting behaviour with the system package manager. It is recommended to use a virtual environment instead: https://pip.pypa.io/warnings/venv\u001b[0m\u001b[33m\r\n",
      "\u001b[0m"
     ]
    }
   ],
   "source": [
    "!pip install openpyxl #for loading xlsx files using pandas"
   ]
  },
  {
   "cell_type": "markdown",
   "id": "d11fe82b",
   "metadata": {},
   "source": [
    "## Importing Necessary Libraries"
   ]
  },
  {
   "cell_type": "code",
   "execution_count": 2,
   "id": "e89077d6",
   "metadata": {
    "_cell_guid": "b1076dfc-b9ad-4769-8c92-a6c4dae69d19",
    "_uuid": "8f2839f25d086af736a60e9eeb907d3b93b6e0e5",
    "execution": {
     "iopub.execute_input": "2022-05-01T18:36:02.840342Z",
     "iopub.status.busy": "2022-05-01T18:36:02.839549Z",
     "iopub.status.idle": "2022-05-01T18:36:05.623413Z",
     "shell.execute_reply": "2022-05-01T18:36:05.622681Z"
    },
    "papermill": {
     "duration": 2.804603,
     "end_time": "2022-05-01T18:36:05.625799",
     "exception": false,
     "start_time": "2022-05-01T18:36:02.821196",
     "status": "completed"
    },
    "tags": []
   },
   "outputs": [],
   "source": [
    "import os\n",
    "import copy\n",
    "import pandas as pd\n",
    "import matplotlib.pyplot as plt\n",
    "from PIL import Image    \n",
    "import torch\n",
    "from torch import optim\n",
    "from torch import nn\n",
    "from torch.optim.lr_scheduler import ReduceLROnPlateau\n",
    "from torch.utils.data import Dataset, DataLoader\n",
    "from torchvision import models\n",
    "import torchvision.transforms as transforms\n",
    "from sklearn import metrics\n",
    "from tqdm import tqdm\n",
    "import warnings\n",
    "warnings.filterwarnings('ignore')\n",
    "\n",
    "src = \"..\"\n",
    "device = \"cuda:0\"\n",
    "frame_count = 25"
   ]
  },
  {
   "cell_type": "markdown",
   "id": "39e94b96",
   "metadata": {},
   "source": [
    "#### Loading generated dataframe for Train and Valid set"
   ]
  },
  {
   "cell_type": "code",
   "execution_count": 3,
   "id": "c2392967",
   "metadata": {
    "execution": {
     "iopub.execute_input": "2022-05-01T18:36:05.661956Z",
     "iopub.status.busy": "2022-05-01T18:36:05.661729Z",
     "iopub.status.idle": "2022-05-01T18:36:06.782950Z",
     "shell.execute_reply": "2022-05-01T18:36:06.782259Z"
    },
    "papermill": {
     "duration": 1.141362,
     "end_time": "2022-05-01T18:36:06.785074",
     "exception": false,
     "start_time": "2022-05-01T18:36:05.643712",
     "status": "completed"
    },
    "tags": []
   },
   "outputs": [],
   "source": [
    "Train = pd.read_excel(\"{}/Train.xlsx\".format(src))\n",
    "Valid = pd.read_excel(\"{}/Valid.xlsx\".format(src))"
   ]
  },
  {
   "cell_type": "code",
   "execution_count": 4,
   "id": "5992acf9",
   "metadata": {
    "execution": {
     "iopub.execute_input": "2022-05-01T18:36:06.821935Z",
     "iopub.status.busy": "2022-05-01T18:36:06.821678Z",
     "iopub.status.idle": "2022-05-01T18:36:06.839707Z",
     "shell.execute_reply": "2022-05-01T18:36:06.838905Z"
    },
    "papermill": {
     "duration": 0.039153,
     "end_time": "2022-05-01T18:36:06.842138",
     "exception": false,
     "start_time": "2022-05-01T18:36:06.802985",
     "status": "completed"
    },
    "tags": []
   },
   "outputs": [
    {
     "data": {
      "text/html": [
       "<div>\n",
       "<style scoped>\n",
       "    .dataframe tbody tr th:only-of-type {\n",
       "        vertical-align: middle;\n",
       "    }\n",
       "\n",
       "    .dataframe tbody tr th {\n",
       "        vertical-align: top;\n",
       "    }\n",
       "\n",
       "    .dataframe thead th {\n",
       "        text-align: right;\n",
       "    }\n",
       "</style>\n",
       "<table border=\"1\" class=\"dataframe\">\n",
       "  <thead>\n",
       "    <tr style=\"text-align: right;\">\n",
       "      <th></th>\n",
       "      <th>ID</th>\n",
       "      <th>Path</th>\n",
       "      <th>Modality</th>\n",
       "      <th>Vocal Channel</th>\n",
       "      <th>Emotion</th>\n",
       "      <th>Emotional intensity</th>\n",
       "      <th>Statement</th>\n",
       "      <th>Repetition</th>\n",
       "      <th>Actor</th>\n",
       "    </tr>\n",
       "  </thead>\n",
       "  <tbody>\n",
       "    <tr>\n",
       "      <th>0</th>\n",
       "      <td>01-01-01-01-01-01-01</td>\n",
       "      <td>audio-video/Actor_01/01-01-01-01-01-01-01.mp4</td>\n",
       "      <td>full-AV</td>\n",
       "      <td>speech</td>\n",
       "      <td>neutral</td>\n",
       "      <td>normal</td>\n",
       "      <td>Kids are talking by the door</td>\n",
       "      <td>1st repetition</td>\n",
       "      <td>1</td>\n",
       "    </tr>\n",
       "    <tr>\n",
       "      <th>1</th>\n",
       "      <td>01-01-01-01-01-02-01</td>\n",
       "      <td>audio-video/Actor_01/01-01-01-01-01-02-01.mp4</td>\n",
       "      <td>full-AV</td>\n",
       "      <td>speech</td>\n",
       "      <td>neutral</td>\n",
       "      <td>normal</td>\n",
       "      <td>Kids are talking by the door</td>\n",
       "      <td>2nd repetition</td>\n",
       "      <td>1</td>\n",
       "    </tr>\n",
       "    <tr>\n",
       "      <th>2</th>\n",
       "      <td>01-01-01-01-02-01-01</td>\n",
       "      <td>audio-video/Actor_01/01-01-01-01-02-01-01.mp4</td>\n",
       "      <td>full-AV</td>\n",
       "      <td>speech</td>\n",
       "      <td>neutral</td>\n",
       "      <td>normal</td>\n",
       "      <td>Dogs are sitting by the door</td>\n",
       "      <td>1st repetition</td>\n",
       "      <td>1</td>\n",
       "    </tr>\n",
       "    <tr>\n",
       "      <th>3</th>\n",
       "      <td>01-01-01-01-02-02-01</td>\n",
       "      <td>audio-video/Actor_01/01-01-01-01-02-02-01.mp4</td>\n",
       "      <td>full-AV</td>\n",
       "      <td>speech</td>\n",
       "      <td>neutral</td>\n",
       "      <td>normal</td>\n",
       "      <td>Dogs are sitting by the door</td>\n",
       "      <td>2nd repetition</td>\n",
       "      <td>1</td>\n",
       "    </tr>\n",
       "    <tr>\n",
       "      <th>4</th>\n",
       "      <td>01-01-02-01-01-01-01</td>\n",
       "      <td>audio-video/Actor_01/01-01-02-01-01-01-01.mp4</td>\n",
       "      <td>full-AV</td>\n",
       "      <td>speech</td>\n",
       "      <td>calm</td>\n",
       "      <td>normal</td>\n",
       "      <td>Kids are talking by the door</td>\n",
       "      <td>1st repetition</td>\n",
       "      <td>1</td>\n",
       "    </tr>\n",
       "  </tbody>\n",
       "</table>\n",
       "</div>"
      ],
      "text/plain": [
       "                     ID                                           Path  \\\n",
       "0  01-01-01-01-01-01-01  audio-video/Actor_01/01-01-01-01-01-01-01.mp4   \n",
       "1  01-01-01-01-01-02-01  audio-video/Actor_01/01-01-01-01-01-02-01.mp4   \n",
       "2  01-01-01-01-02-01-01  audio-video/Actor_01/01-01-01-01-02-01-01.mp4   \n",
       "3  01-01-01-01-02-02-01  audio-video/Actor_01/01-01-01-01-02-02-01.mp4   \n",
       "4  01-01-02-01-01-01-01  audio-video/Actor_01/01-01-02-01-01-01-01.mp4   \n",
       "\n",
       "  Modality Vocal Channel  Emotion Emotional intensity  \\\n",
       "0  full-AV        speech  neutral              normal   \n",
       "1  full-AV        speech  neutral              normal   \n",
       "2  full-AV        speech  neutral              normal   \n",
       "3  full-AV        speech  neutral              normal   \n",
       "4  full-AV        speech     calm              normal   \n",
       "\n",
       "                      Statement      Repetition  Actor  \n",
       "0  Kids are talking by the door  1st repetition      1  \n",
       "1  Kids are talking by the door  2nd repetition      1  \n",
       "2  Dogs are sitting by the door  1st repetition      1  \n",
       "3  Dogs are sitting by the door  2nd repetition      1  \n",
       "4  Kids are talking by the door  1st repetition      1  "
      ]
     },
     "execution_count": 4,
     "metadata": {},
     "output_type": "execute_result"
    }
   ],
   "source": [
    "Train.head()"
   ]
  },
  {
   "cell_type": "code",
   "execution_count": 5,
   "id": "9008865a",
   "metadata": {
    "execution": {
     "iopub.execute_input": "2022-05-01T18:36:06.879085Z",
     "iopub.status.busy": "2022-05-01T18:36:06.878813Z",
     "iopub.status.idle": "2022-05-01T18:36:06.883649Z",
     "shell.execute_reply": "2022-05-01T18:36:06.882788Z"
    },
    "papermill": {
     "duration": 0.025657,
     "end_time": "2022-05-01T18:36:06.885755",
     "exception": false,
     "start_time": "2022-05-01T18:36:06.860098",
     "status": "completed"
    },
    "tags": []
   },
   "outputs": [],
   "source": [
    "emotion = {\n",
    "    \"neutral\": 0, \n",
    "    \"calm\": 1, \n",
    "    \"happy\": 2, \n",
    "    \"sad\": 3, \n",
    "    \"angry\": 4, \n",
    "    \"fearful\": 5, \n",
    "    \"disgust\": 6, \n",
    "    \"surprised\": 7\n",
    "}\n",
    "\n",
    "reverse_emotion = {y: x for x, y in emotion.items()}"
   ]
  },
  {
   "cell_type": "markdown",
   "id": "134b35c1",
   "metadata": {},
   "source": [
    "## Initializing custom Dataset class"
   ]
  },
  {
   "cell_type": "markdown",
   "id": "d4027ed4",
   "metadata": {},
   "source": [
    "#### Stacking frames per video and putting channel first in tensor instead of number of frames for Resnet18Conv3d"
   ]
  },
  {
   "cell_type": "code",
   "execution_count": 6,
   "id": "f3affeba",
   "metadata": {
    "execution": {
     "iopub.execute_input": "2022-05-01T18:36:06.922850Z",
     "iopub.status.busy": "2022-05-01T18:36:06.922237Z",
     "iopub.status.idle": "2022-05-01T18:36:06.930946Z",
     "shell.execute_reply": "2022-05-01T18:36:06.930236Z"
    },
    "papermill": {
     "duration": 0.029146,
     "end_time": "2022-05-01T18:36:06.932640",
     "exception": false,
     "start_time": "2022-05-01T18:36:06.903494",
     "status": "completed"
    },
    "tags": []
   },
   "outputs": [],
   "source": [
    "class myDataset(Dataset):\n",
    "    def __init__(self, df, path, frame_count, emotion, transform=None):\n",
    "        self.df = df\n",
    "        self.path = path\n",
    "        self.frame_count = frame_count\n",
    "        self.emotion = emotion\n",
    "        self.transform = transform\n",
    "    \n",
    "    def __len__(self):\n",
    "        return self.df.shape[0]\n",
    "    \n",
    "    def __getitem__(self, idx):\n",
    "        directory = \"{}/{}\".format(self.path, self.df[\"ID\"].iloc[idx]) #name of a video\n",
    "        files = [\"{}/{}\".format(directory, x) for x in os.listdir(directory)] #list of all stored frames in a given video\n",
    "        frames = []\n",
    "        for file in files[:self.frame_count]:\n",
    "            image = Image.open(file)\n",
    "            image = self.transform(image)\n",
    "            frames.append(image) #appending frame to list\n",
    "        imgs_tensor = torch.stack(frames)\n",
    "        imgs_tensor = imgs_tensor.transpose(1,0) #(25, 3, 112, 112) -> (3, 25, 112, 112)\n",
    "        label = self.emotion[self.df[\"Emotion\"].iloc[idx]] #converting label to index\n",
    "        \n",
    "        return imgs_tensor, label"
   ]
  },
  {
   "cell_type": "markdown",
   "id": "b4703b23",
   "metadata": {},
   "source": [
    "#### Instantiating dataset and dataloader, and using a simple transform for marking baseline performance"
   ]
  },
  {
   "cell_type": "code",
   "execution_count": 7,
   "id": "3a94222f",
   "metadata": {
    "execution": {
     "iopub.execute_input": "2022-05-01T18:36:06.970637Z",
     "iopub.status.busy": "2022-05-01T18:36:06.970015Z",
     "iopub.status.idle": "2022-05-01T18:36:06.976410Z",
     "shell.execute_reply": "2022-05-01T18:36:06.975590Z"
    },
    "papermill": {
     "duration": 0.028445,
     "end_time": "2022-05-01T18:36:06.978759",
     "exception": false,
     "start_time": "2022-05-01T18:36:06.950314",
     "status": "completed"
    },
    "tags": []
   },
   "outputs": [],
   "source": [
    "transform = transforms.Compose([\n",
    "            transforms.Resize((112,112)),\n",
    "            transforms.ToTensor(),\n",
    "            transforms.Normalize(\n",
    "                [0.43216, 0.394666, 0.37645], \n",
    "                [0.22803, 0.22145, 0.216989]\n",
    "            )\n",
    "]) \n",
    "\n",
    "src = \"../frames\"\n",
    "trainset = myDataset(Train, src, frame_count, emotion, transform)\n",
    "validset = myDataset(Valid, src, frame_count, emotion, transform)\n",
    "\n",
    "trainloader = DataLoader(trainset, batch_size=4, shuffle=True)\n",
    "validloader = DataLoader(validset, batch_size=2, shuffle=False)"
   ]
  },
  {
   "cell_type": "code",
   "execution_count": 8,
   "id": "7309fde9",
   "metadata": {
    "execution": {
     "iopub.execute_input": "2022-05-01T18:36:07.018224Z",
     "iopub.status.busy": "2022-05-01T18:36:07.017950Z",
     "iopub.status.idle": "2022-05-01T18:36:08.075266Z",
     "shell.execute_reply": "2022-05-01T18:36:08.074221Z"
    },
    "papermill": {
     "duration": 1.07975,
     "end_time": "2022-05-01T18:36:08.078521",
     "exception": false,
     "start_time": "2022-05-01T18:36:06.998771",
     "status": "completed"
    },
    "tags": []
   },
   "outputs": [
    {
     "name": "stdout",
     "output_type": "stream",
     "text": [
      "torch.Size([4, 3, 25, 112, 112]) torch.Size([4])\n"
     ]
    }
   ],
   "source": [
    "image, label = next(iter(trainloader)) #verifying shape of image and label from dataloader\n",
    "print(image.shape, label.shape)"
   ]
  },
  {
   "cell_type": "markdown",
   "id": "b6043605",
   "metadata": {},
   "source": [
    "## Initializing custom Model class"
   ]
  },
  {
   "cell_type": "markdown",
   "id": "898339c4",
   "metadata": {},
   "source": [
    "#### We used a ResNet 3D model. It is a model for video that employs 3D convolutions. It factorizes 3D convolution into two separate and successive operations, a 2D spatial convolution and a 1D temporal convolution."
   ]
  },
  {
   "cell_type": "code",
   "execution_count": 9,
   "id": "04e8230d",
   "metadata": {
    "execution": {
     "iopub.execute_input": "2022-05-01T18:36:08.116339Z",
     "iopub.status.busy": "2022-05-01T18:36:08.116123Z",
     "iopub.status.idle": "2022-05-01T18:36:08.121938Z",
     "shell.execute_reply": "2022-05-01T18:36:08.121195Z"
    },
    "papermill": {
     "duration": 0.026393,
     "end_time": "2022-05-01T18:36:08.123530",
     "exception": false,
     "start_time": "2022-05-01T18:36:08.097137",
     "status": "completed"
    },
    "tags": []
   },
   "outputs": [],
   "source": [
    "class Resnet18Conv3d(nn.Module):\n",
    "    def __init__(self, config):\n",
    "        super(Resnet18Conv3d, self).__init__()\n",
    "        num_classes = config[\"num_classes\"]\n",
    "        pretrained = config[\"pretrained\"]\n",
    "        \n",
    "        self.model = models.video.r3d_18(pretrained=pretrained)\n",
    "        num_features = self.model.fc.in_features\n",
    "        self.model.fc = nn.Linear(num_features, num_classes) #replacing final layer with linear layer for custom num_classes\n",
    "    \n",
    "    def forward(self, x):\n",
    "        out = self.model(x) \n",
    "        return out "
   ]
  },
  {
   "cell_type": "markdown",
   "id": "aa8f16b9",
   "metadata": {},
   "source": [
    "## Defining configuration for training"
   ]
  },
  {
   "cell_type": "code",
   "execution_count": 10,
   "id": "93cf9b96",
   "metadata": {
    "execution": {
     "iopub.execute_input": "2022-05-01T18:36:08.159736Z",
     "iopub.status.busy": "2022-05-01T18:36:08.159537Z",
     "iopub.status.idle": "2022-05-01T18:36:08.163404Z",
     "shell.execute_reply": "2022-05-01T18:36:08.162687Z"
    },
    "papermill": {
     "duration": 0.023963,
     "end_time": "2022-05-01T18:36:08.165108",
     "exception": false,
     "start_time": "2022-05-01T18:36:08.141145",
     "status": "completed"
    },
    "tags": []
   },
   "outputs": [],
   "source": [
    "config = {  \n",
    "    \"epochs\": 15,\n",
    "    \"path2weights\": \"best.pt\",\n",
    "    \"num_classes\": len(emotion.keys()),\n",
    "    \"pretrained\" : True,\n",
    "    \"trainloader\": trainloader,\n",
    "    \"validloader\": validloader,\n",
    "    \"sanity_check\": False,\n",
    "}"
   ]
  },
  {
   "cell_type": "markdown",
   "id": "2e7a20ec",
   "metadata": {},
   "source": [
    "## Defining functions for training model"
   ]
  },
  {
   "cell_type": "code",
   "execution_count": 11,
   "id": "5dc66cc1",
   "metadata": {
    "execution": {
     "iopub.execute_input": "2022-05-01T18:36:08.201503Z",
     "iopub.status.busy": "2022-05-01T18:36:08.201272Z",
     "iopub.status.idle": "2022-05-01T18:36:08.217318Z",
     "shell.execute_reply": "2022-05-01T18:36:08.216564Z"
    },
    "papermill": {
     "duration": 0.036888,
     "end_time": "2022-05-01T18:36:08.219511",
     "exception": false,
     "start_time": "2022-05-01T18:36:08.182623",
     "status": "completed"
    },
    "tags": []
   },
   "outputs": [],
   "source": [
    "def trainModel(model, criterion, optimizer, scheduler, config):\n",
    "    epochs=config[\"epochs\"]\n",
    "    trainloader=config[\"trainloader\"]\n",
    "    validloader=config[\"validloader\"]\n",
    "    sanity_check=config[\"sanity_check\"]\n",
    "    path2weights=config[\"path2weights\"]\n",
    "    \n",
    "    #for plotting\n",
    "    loss_history={\n",
    "        \"train\": [],\n",
    "        \"val\": [],\n",
    "    }\n",
    "    #for plotting\n",
    "    metric_history={\n",
    "        \"train\": [],\n",
    "        \"val\": [],\n",
    "    }\n",
    "    \n",
    "    best_model_wts = copy.deepcopy(model.state_dict())\n",
    "    best_loss=float('inf')\n",
    "    \n",
    "    for epoch in range(epochs):\n",
    "        current_lr=get_lr(optimizer)\n",
    "        print('Epoch {}/{}, current lr = {}'.format(epoch, epochs-1, current_lr))\n",
    "        model.train() #for training\n",
    "        train_loss, train_metric = oneEpoch(model, criterion, trainloader, sanity_check, optimizer) #one training epoch\n",
    "        loss_history[\"train\"].append(train_loss)\n",
    "        metric_history[\"train\"].append(train_metric)\n",
    "        model.eval() #for validation\n",
    "        with torch.no_grad():\n",
    "            val_loss, val_metric = oneEpoch(model, criterion, validloader, sanity_check) #one validation epoch\n",
    "        #saving weights from best model\n",
    "        if val_loss < best_loss:\n",
    "            best_loss = val_loss\n",
    "            best_model_wts = copy.deepcopy(model.state_dict())\n",
    "            torch.save(model.state_dict(), path2weights)\n",
    "            print(\"Copied best model weights!\")\n",
    "        \n",
    "        loss_history[\"val\"].append(val_loss)\n",
    "        metric_history[\"val\"].append(val_metric)\n",
    "        \n",
    "        #updating learning rate scheduler\n",
    "        scheduler.step(val_loss)\n",
    "        if current_lr != get_lr(optimizer):\n",
    "            print(\"Loading best model weights!\")\n",
    "            model.load_state_dict(best_model_wts)\n",
    "        \n",
    "        print(\"Train Loss: %.6f, Val Loss: %.6f, Val Acc: %.2f\" %(train_loss,val_loss,100*val_metric))\n",
    "        print(\"-\"*10) \n",
    "    #reloading best weights\n",
    "    model.load_state_dict(best_model_wts)\n",
    "        \n",
    "    return model, loss_history, metric_history\n",
    "\n",
    "\n",
    "#get learning rate \n",
    "def get_lr(optimizer):\n",
    "    for param_group in optimizer.param_groups:\n",
    "        return param_group['lr']\n",
    "\n",
    "#get metrics for a batch\n",
    "def metrics_batch(output, target): \n",
    "    pred = output.argmax(dim=1, keepdim=True) #picking highest probability index\n",
    "    corrects = pred.eq(target.view_as(pred)).sum().item() \n",
    "    return corrects\n",
    "\n",
    "#performing backward propagation\n",
    "def loss_batch(criterion, output, target, optimizer=None):\n",
    "    loss = criterion(output, target)\n",
    "    with torch.no_grad():\n",
    "        metric_b = metrics_batch(output,target)\n",
    "    if optimizer is not None:\n",
    "        optimizer.zero_grad()\n",
    "        loss.backward()\n",
    "        optimizer.step()\n",
    "    return loss.item(), metric_b\n",
    "    \n",
    "#iterating through all batches in a given epoch\n",
    "def oneEpoch(model, criterion, dataloader, sanity_check=False, optimizer=None):\n",
    "    running_loss, running_metric = 0.0, 0.0\n",
    "    len_data = len(dataloader.dataset)\n",
    "    for inputs, labels in dataloader:\n",
    "        inputs, labels = inputs.to(device), labels.to(device) #shifting data to gpu from cpu\n",
    "        output = model(inputs)\n",
    "        loss_b, metric_b = loss_batch(criterion, output, labels, optimizer)\n",
    "        running_loss += loss_b\n",
    "        \n",
    "        if metric_b is not None:\n",
    "            running_metric += metric_b\n",
    "        if sanity_check is True:\n",
    "            break\n",
    "    loss=running_loss/float(len_data)\n",
    "    metric=running_metric/float(len_data)\n",
    "    return loss, metric"
   ]
  },
  {
   "cell_type": "markdown",
   "id": "b912a521",
   "metadata": {},
   "source": [
    "## Starting training"
   ]
  },
  {
   "cell_type": "code",
   "execution_count": 12,
   "id": "003019c8",
   "metadata": {
    "execution": {
     "iopub.execute_input": "2022-05-01T18:36:08.255329Z",
     "iopub.status.busy": "2022-05-01T18:36:08.255131Z",
     "iopub.status.idle": "2022-05-01T21:36:18.688794Z",
     "shell.execute_reply": "2022-05-01T21:36:18.688058Z"
    },
    "papermill": {
     "duration": 10810.477192,
     "end_time": "2022-05-01T21:36:18.713961",
     "exception": false,
     "start_time": "2022-05-01T18:36:08.236769",
     "status": "completed"
    },
    "tags": []
   },
   "outputs": [
    {
     "name": "stderr",
     "output_type": "stream",
     "text": [
      "Downloading: \"https://download.pytorch.org/models/r3d_18-b3b3357e.pth\" to /root/.cache/torch/hub/checkpoints/r3d_18-b3b3357e.pth\n"
     ]
    },
    {
     "data": {
      "application/vnd.jupyter.widget-view+json": {
       "model_id": "352c889d42c94aa2a3c99af02d51e470",
       "version_major": 2,
       "version_minor": 0
      },
      "text/plain": [
       "  0%|          | 0.00/127M [00:00<?, ?B/s]"
      ]
     },
     "metadata": {},
     "output_type": "display_data"
    },
    {
     "name": "stdout",
     "output_type": "stream",
     "text": [
      "Epoch 0/14, current lr = 0.0003\n",
      "Copied best model weights!\n",
      "Train Loss: 1.173999, Val Loss: 2.086098, Val Acc: 49.38\n",
      "----------\n",
      "Epoch 1/14, current lr = 0.0003\n",
      "Copied best model weights!\n",
      "Train Loss: 0.657125, Val Loss: 1.508547, Val Acc: 52.29\n",
      "----------\n",
      "Epoch 2/14, current lr = 0.0003\n",
      "Train Loss: 0.365507, Val Loss: 1.623317, Val Acc: 52.08\n",
      "----------\n",
      "Epoch 3/14, current lr = 0.0003\n",
      "Train Loss: 0.236231, Val Loss: 1.975328, Val Acc: 46.25\n",
      "----------\n",
      "Epoch 4/14, current lr = 0.0003\n",
      "Train Loss: 0.169574, Val Loss: 1.586291, Val Acc: 55.00\n",
      "----------\n",
      "Epoch 5/14, current lr = 0.0003\n",
      "Train Loss: 0.185958, Val Loss: 1.985982, Val Acc: 53.33\n",
      "----------\n",
      "Epoch 6/14, current lr = 0.0003\n",
      "Copied best model weights!\n",
      "Train Loss: 0.124946, Val Loss: 1.269933, Val Acc: 62.71\n",
      "----------\n",
      "Epoch 7/14, current lr = 0.0003\n",
      "Train Loss: 0.098500, Val Loss: 1.593108, Val Acc: 56.25\n",
      "----------\n",
      "Epoch 8/14, current lr = 0.0003\n",
      "Train Loss: 0.150076, Val Loss: 1.747964, Val Acc: 49.58\n",
      "----------\n",
      "Epoch 9/14, current lr = 0.0003\n",
      "Train Loss: 0.084979, Val Loss: 1.717930, Val Acc: 60.00\n",
      "----------\n",
      "Epoch 10/14, current lr = 0.0003\n",
      "Train Loss: 0.073567, Val Loss: 1.901565, Val Acc: 55.83\n",
      "----------\n",
      "Epoch 11/14, current lr = 0.0003\n",
      "Train Loss: 0.047535, Val Loss: 1.637338, Val Acc: 57.92\n",
      "----------\n",
      "Epoch 12/14, current lr = 0.0003\n",
      "Epoch    13: reducing learning rate of group 0 to 1.5000e-04.\n",
      "Loading best model weights!\n",
      "Train Loss: 0.123520, Val Loss: 1.457695, Val Acc: 60.62\n",
      "----------\n",
      "Epoch 13/14, current lr = 0.00015\n",
      "Train Loss: 0.039805, Val Loss: 1.748078, Val Acc: 58.75\n",
      "----------\n",
      "Epoch 14/14, current lr = 0.00015\n",
      "Train Loss: 0.039647, Val Loss: 1.604737, Val Acc: 57.08\n",
      "----------\n"
     ]
    }
   ],
   "source": [
    "model = Resnet18Conv3d(config) #instantiating model\n",
    "model.to(device) #shifting model to gpu from cpu\n",
    "criterion = nn.CrossEntropyLoss(reduction=\"sum\") #loss function\n",
    "optimizer = optim.Adam(model.parameters(), lr=3e-4) #optimizer\n",
    "scheduler = ReduceLROnPlateau(optimizer, mode='min',factor=0.5, patience=5,verbose=1) #learning rate scheduler\n",
    "model, loss_history, metric_history = trainModel(model, criterion, optimizer, scheduler, config)"
   ]
  },
  {
   "cell_type": "markdown",
   "id": "75e79e54",
   "metadata": {},
   "source": [
    "## Plotting Graphs"
   ]
  },
  {
   "cell_type": "code",
   "execution_count": 13,
   "id": "95352d09",
   "metadata": {
    "execution": {
     "iopub.execute_input": "2022-05-01T21:36:18.761634Z",
     "iopub.status.busy": "2022-05-01T21:36:18.761428Z",
     "iopub.status.idle": "2022-05-01T21:36:18.768230Z",
     "shell.execute_reply": "2022-05-01T21:36:18.767441Z"
    },
    "papermill": {
     "duration": 0.032375,
     "end_time": "2022-05-01T21:36:18.770087",
     "exception": false,
     "start_time": "2022-05-01T21:36:18.737712",
     "status": "completed"
    },
    "tags": []
   },
   "outputs": [],
   "source": [
    "def plot_loss(loss_hist, metric_hist):\n",
    "\n",
    "    epochs= len(loss_hist[\"train\"])\n",
    "\n",
    "    plt.title(\"Train-Val Loss\")\n",
    "    plt.plot(range(1, epochs+1),loss_hist[\"train\"],label=\"train\")\n",
    "    plt.plot(range(1, epochs+1),loss_hist[\"val\"],label=\"val\")\n",
    "    plt.ylabel(\"Loss\")\n",
    "    plt.xlabel(\"Training Epochs\")\n",
    "    plt.legend()\n",
    "    plt.show()\n",
    "\n",
    "    plt.title(\"Train-Val Accuracy\")\n",
    "    plt.plot(range(1, epochs+1), metric_hist[\"train\"],label=\"train\")\n",
    "    plt.plot(range(1, epochs+1), metric_hist[\"val\"],label=\"val\")\n",
    "    plt.ylabel(\"Accuracy\")\n",
    "    plt.xlabel(\"Training Epochs\")\n",
    "    plt.legend()\n",
    "    plt.show()"
   ]
  },
  {
   "cell_type": "code",
   "execution_count": 14,
   "id": "e5d47b36",
   "metadata": {
    "execution": {
     "iopub.execute_input": "2022-05-01T21:36:18.817256Z",
     "iopub.status.busy": "2022-05-01T21:36:18.817063Z",
     "iopub.status.idle": "2022-05-01T21:36:19.181666Z",
     "shell.execute_reply": "2022-05-01T21:36:19.181053Z"
    },
    "papermill": {
     "duration": 0.390008,
     "end_time": "2022-05-01T21:36:19.183267",
     "exception": false,
     "start_time": "2022-05-01T21:36:18.793259",
     "status": "completed"
    },
    "tags": []
   },
   "outputs": [
    {
     "data": {
      "image/png": "[encoded data removed]",
      "text/plain": [
       "<Figure size 432x288 with 1 Axes>"
      ]
     },
     "metadata": {
      "needs_background": "light"
     },
     "output_type": "display_data"
    },
    {
     "data": {
      "image/png": "[encoded data removed]",
      "text/plain": [
       "<Figure size 432x288 with 1 Axes>"
      ]
     },
     "metadata": {
      "needs_background": "light"
     },
     "output_type": "display_data"
    }
   ],
   "source": [
    "plot_loss(loss_history, metric_history)"
   ]
  },
  {
   "cell_type": "markdown",
   "id": "fe38cdc9",
   "metadata": {},
   "source": [
    "#### Confusion Matrix and Classification Report (Precision, Recall, F1-Score) for Validation Set"
   ]
  },
  {
   "cell_type": "code",
   "execution_count": 15,
   "id": "1024789d",
   "metadata": {
    "execution": {
     "iopub.execute_input": "2022-05-01T21:36:19.234280Z",
     "iopub.status.busy": "2022-05-01T21:36:19.234092Z",
     "iopub.status.idle": "2022-05-01T21:37:17.705357Z",
     "shell.execute_reply": "2022-05-01T21:37:17.702733Z"
    },
    "papermill": {
     "duration": 58.499349,
     "end_time": "2022-05-01T21:37:17.707356",
     "exception": false,
     "start_time": "2022-05-01T21:36:19.208007",
     "status": "completed"
    },
    "tags": []
   },
   "outputs": [
    {
     "name": "stderr",
     "output_type": "stream",
     "text": [
      "100%|██████████| 240/240 [00:58<00:00,  4.11it/s]"
     ]
    },
    {
     "name": "stdout",
     "output_type": "stream",
     "text": [
      "CONFUSION MATRIX\n",
      "\n",
      "[[46  0  2  0  0  0  8  8]\n",
      " [ 0 42  0  0  3  8  0 11]\n",
      " [19  8 26  0  0  0 10  1]\n",
      " [ 4  0  0 44  0  1  0 15]\n",
      " [ 0  6  0  0 46  2  0 10]\n",
      " [ 2  0  0  0  0 26  0  4]\n",
      " [ 2  4  0  0  0 10 39  9]\n",
      " [ 8  1  0  9  4  3  7 32]]\n",
      "\n",
      "\n",
      "CLASSIFICATION REPORT\n",
      "\n",
      "              precision    recall  f1-score   support\n",
      "\n",
      "       angry      0.568     0.719     0.634        64\n",
      "        calm      0.689     0.656     0.672        64\n",
      "     disgust      0.929     0.406     0.565        64\n",
      "     fearful      0.830     0.688     0.752        64\n",
      "       happy      0.868     0.719     0.786        64\n",
      "     neutral      0.520     0.812     0.634        32\n",
      "         sad      0.609     0.609     0.609        64\n",
      "   surprised      0.356     0.500     0.416        64\n",
      "\n",
      "    accuracy                          0.627       480\n",
      "   macro avg      0.671     0.639     0.634       480\n",
      "weighted avg      0.681     0.627     0.634       480\n",
      "\n"
     ]
    },
    {
     "name": "stderr",
     "output_type": "stream",
     "text": [
      "\n"
     ]
    }
   ],
   "source": [
    "testset = myDataset(Valid, src, frame_count, emotion, transform)\n",
    "testloader = DataLoader(testset, batch_size=2, shuffle=False)\n",
    "\n",
    "lbl_list, out_list = [], []\n",
    "for inputs, labels in tqdm(testloader):\n",
    "    inputs, labels = inputs.to(device), labels.to(device) #shifting data to gpu from cpu\n",
    "    output = model(inputs).argmax(dim=1, keepdim=True) #picking highest probability index\n",
    "    lbl_list.extend(labels)\n",
    "    out_list.extend(output)\n",
    "\n",
    "pred = [reverse_emotion[x.item()] for x in out_list]\n",
    "true = [reverse_emotion[x.item()] for x in lbl_list]\n",
    "\n",
    "print(\"CONFUSION MATRIX\\n\")\n",
    "print(metrics.confusion_matrix(true, pred))\n",
    "print(\"\\n\\nCLASSIFICATION REPORT\\n\")\n",
    "print(metrics.classification_report(true, pred, digits=3));"
   ]
  },
  {
   "cell_type": "markdown",
   "id": "a853b157",
   "metadata": {},
   "source": [
    "#### Confusion Matrix and Classification Report (Precision, Recall, F1-Score) for Validation Set with respect to each sentence"
   ]
  },
  {
   "cell_type": "code",
   "execution_count": 16,
   "id": "4cca8b40",
   "metadata": {
    "execution": {
     "iopub.execute_input": "2022-05-01T21:37:17.912385Z",
     "iopub.status.busy": "2022-05-01T21:37:17.912145Z",
     "iopub.status.idle": "2022-05-01T21:38:16.225202Z",
     "shell.execute_reply": "2022-05-01T21:38:16.224069Z"
    },
    "papermill": {
     "duration": 58.420659,
     "end_time": "2022-05-01T21:38:16.226927",
     "exception": false,
     "start_time": "2022-05-01T21:37:17.806268",
     "status": "completed"
    },
    "tags": []
   },
   "outputs": [
    {
     "name": "stderr",
     "output_type": "stream",
     "text": [
      "100%|██████████| 120/120 [00:28<00:00,  4.16it/s]\n"
     ]
    },
    {
     "name": "stdout",
     "output_type": "stream",
     "text": [
      "CONFUSION MATRIX for 'Kids are talking by the door'\n",
      "\n",
      "[[22  0  2  0  0  0  4  4]\n",
      " [ 0 21  0  0  3  2  0  6]\n",
      " [ 9  4 12  0  0  0  6  1]\n",
      " [ 2  0  0 22  0  0  0  8]\n",
      " [ 0  0  0  0 24  2  0  6]\n",
      " [ 0  0  0  0  0 12  0  4]\n",
      " [ 2  2  0  0  0  0 21  7]\n",
      " [ 0  1  0  6  2  1  7 15]]\n",
      "\n",
      "\n",
      "CLASSIFICATION REPORT for 'Kids are talking by the door'\n",
      "\n",
      "              precision    recall  f1-score   support\n",
      "\n",
      "       angry      0.629     0.688     0.657        32\n",
      "        calm      0.750     0.656     0.700        32\n",
      "     disgust      0.857     0.375     0.522        32\n",
      "     fearful      0.786     0.688     0.733        32\n",
      "       happy      0.828     0.750     0.787        32\n",
      "     neutral      0.706     0.750     0.727        16\n",
      "         sad      0.553     0.656     0.600        32\n",
      "   surprised      0.294     0.469     0.361        32\n",
      "\n",
      "    accuracy                          0.621       240\n",
      "   macro avg      0.675     0.629     0.636       240\n",
      "weighted avg      0.673     0.621     0.630       240\n",
      "\n",
      "\n",
      "\n",
      "\n"
     ]
    },
    {
     "name": "stderr",
     "output_type": "stream",
     "text": [
      "100%|██████████| 120/120 [00:29<00:00,  4.10it/s]"
     ]
    },
    {
     "name": "stdout",
     "output_type": "stream",
     "text": [
      "CONFUSION MATRIX for 'Dogs are sitting by the door'\n",
      "\n",
      "[[24  0  0  0  0  0  4  4]\n",
      " [ 0 21  0  0  0  6  0  5]\n",
      " [10  4 14  0  0  0  4  0]\n",
      " [ 2  0  0 22  0  1  0  7]\n",
      " [ 0  6  0  0 22  0  0  4]\n",
      " [ 2  0  0  0  0 14  0  0]\n",
      " [ 0  2  0  0  0 10 18  2]\n",
      " [ 8  0  0  3  2  2  0 17]]\n",
      "\n",
      "\n",
      "CLASSIFICATION REPORT for 'Dogs are sitting by the door'\n",
      "\n",
      "              precision    recall  f1-score   support\n",
      "\n",
      "       angry      0.522     0.750     0.615        32\n",
      "        calm      0.636     0.656     0.646        32\n",
      "     disgust      1.000     0.438     0.609        32\n",
      "     fearful      0.880     0.688     0.772        32\n",
      "       happy      0.917     0.688     0.786        32\n",
      "     neutral      0.424     0.875     0.571        16\n",
      "         sad      0.692     0.562     0.621        32\n",
      "   surprised      0.436     0.531     0.479        32\n",
      "\n",
      "    accuracy                          0.633       240\n",
      "   macro avg      0.688     0.648     0.637       240\n",
      "weighted avg      0.706     0.633     0.642       240\n",
      "\n",
      "\n",
      "\n",
      "\n"
     ]
    },
    {
     "name": "stderr",
     "output_type": "stream",
     "text": [
      "\n"
     ]
    }
   ],
   "source": [
    "statements = [\"Kids are talking by the door\", \"Dogs are sitting by the door\"]\n",
    "\n",
    "for statement in statements: \n",
    "    Test = Valid[Valid[\"Statement\"] == statement]\n",
    "    testset = myDataset(Test, src, frame_count, emotion, transform)\n",
    "    testloader = DataLoader(testset, batch_size=2, shuffle=False)\n",
    "\n",
    "    lbl_list, out_list = [], []\n",
    "    for inputs, labels in tqdm(testloader):\n",
    "        inputs, labels = inputs.to(device), labels.to(device) #shifting data to gpu from cpu\n",
    "        output = model(inputs).argmax(dim=1, keepdim=True) #picking highest probability index\n",
    "        lbl_list.extend(labels)\n",
    "        out_list.extend(output)\n",
    "\n",
    "    pred = [reverse_emotion[x.item()] for x in out_list]\n",
    "    true = [reverse_emotion[x.item()] for x in lbl_list]\n",
    "\n",
    "    print(\"CONFUSION MATRIX for '{}'\\n\".format(statement))\n",
    "    print(metrics.confusion_matrix(true, pred))\n",
    "    print(\"\\n\\nCLASSIFICATION REPORT for '{}'\\n\".format(statement))\n",
    "    print(metrics.classification_report(true, pred, digits=3));\n",
    "    print(\"\\n\\n\")"
   ]
  }
 ],
 "metadata": {
  "kernelspec": {
   "display_name": "Python 3",
   "language": "python",
   "name": "python3"
  },
  "language_info": {
   "codemirror_mode": {
    "name": "ipython",
    "version": 3
   },
   "file_extension": ".py",
   "mimetype": "text/x-python",
   "name": "python",
   "nbconvert_exporter": "python",
   "pygments_lexer": "ipython3",
   "version": "3.7.12"
  },
  "papermill": {
   "default_parameters": {},
   "duration": 10955.171544,
   "end_time": "2022-05-01T21:38:18.872863",
   "environment_variables": {},
   "exception": null,
   "input_path": "__notebook__.ipynb",
   "output_path": "__notebook__.ipynb",
   "parameters": {},
   "start_time": "2022-05-01T18:35:43.701319",
   "version": "2.3.4"
  },
  "widgets": {
   "application/vnd.jupyter.widget-state+json": {
    "state": {
     "061b193ea4bf4dd7a5004b6bf527dd95": {
      "model_module": "@jupyter-widgets/controls",
      "model_module_version": "1.5.0",
      "model_name": "ProgressStyleModel",
      "state": {
       "_model_module": "@jupyter-widgets/controls",
       "_model_module_version": "1.5.0",
       "_model_name": "ProgressStyleModel",
       "_view_count": null,
       "_view_module": "@jupyter-widgets/base",
       "_view_module_version": "1.2.0",
       "_view_name": "StyleView",
       "bar_color": null,
       "description_width": ""
      }
     },
     "26d35e3bd12b4a01a8d3b9a1fe737971": {
      "model_module": "@jupyter-widgets/controls",
      "model_module_version": "1.5.0",
      "model_name": "HTMLModel",
      "state": {
       "_dom_classes": [],
       "_model_module": "@jupyter-widgets/controls",
       "_model_module_version": "1.5.0",
       "_model_name": "HTMLModel",
       "_view_count": null,
       "_view_module": "@jupyter-widgets/controls",
       "_view_module_version": "1.5.0",
       "_view_name": "HTMLView",
       "description": "",
       "description_tooltip": null,
       "layout": "IPY_MODEL_b7e1cfa5d5aa453183183086082e5657",
       "placeholder": "​",
       "style": "IPY_MODEL_f97965d742164c48a38b7b4236251d7e",
       "value": " 127M/127M [00:02&lt;00:00, 55.8MB/s]"
      }
     },
     "32b5673929374d348a20d5b094b12c00": {
      "model_module": "@jupyter-widgets/controls",
      "model_module_version": "1.5.0",
      "model_name": "DescriptionStyleModel",
      "state": {
       "_model_module": "@jupyter-widgets/controls",
       "_model_module_version": "1.5.0",
       "_model_name": "DescriptionStyleModel",
       "_view_count": null,
       "_view_module": "@jupyter-widgets/base",
       "_view_module_version": "1.2.0",
       "_view_name": "StyleView",
       "description_width": ""
      }
     },
     "352c889d42c94aa2a3c99af02d51e470": {
      "model_module": "@jupyter-widgets/controls",
      "model_module_version": "1.5.0",
      "model_name": "HBoxModel",
      "state": {
       "_dom_classes": [],
       "_model_module": "@jupyter-widgets/controls",
       "_model_module_version": "1.5.0",
       "_model_name": "HBoxModel",
       "_view_count": null,
       "_view_module": "@jupyter-widgets/controls",
       "_view_module_version": "1.5.0",
       "_view_name": "HBoxView",
       "box_style": "",
       "children": [
        "IPY_MODEL_8dc2a8f8cd7f479f90f5975e4e7d632b",
        "IPY_MODEL_8a670044a20a416295656290f6315646",
        "IPY_MODEL_26d35e3bd12b4a01a8d3b9a1fe737971"
       ],
       "layout": "IPY_MODEL_428224d8029e4de9ae60ee67fe43e82f"
      }
     },
     "428224d8029e4de9ae60ee67fe43e82f": {
      "model_module": "@jupyter-widgets/base",
      "model_module_version": "1.2.0",
      "model_name": "LayoutModel",
      "state": {
       "_model_module": "@jupyter-widgets/base",
       "_model_module_version": "1.2.0",
       "_model_name": "LayoutModel",
       "_view_count": null,
       "_view_module": "@jupyter-widgets/base",
       "_view_module_version": "1.2.0",
       "_view_name": "LayoutView",
       "align_content": null,
       "align_items": null,
       "align_self": null,
       "border": null,
       "bottom": null,
       "display": null,
       "flex": null,
       "flex_flow": null,
       "grid_area": null,
       "grid_auto_columns": null,
       "grid_auto_flow": null,
       "grid_auto_rows": null,
       "grid_column": null,
       "grid_gap": null,
       "grid_row": null,
       "grid_template_areas": null,
       "grid_template_columns": null,
       "grid_template_rows": null,
       "height": null,
       "justify_content": null,
       "justify_items": null,
       "left": null,
       "margin": null,
       "max_height": null,
       "max_width": null,
       "min_height": null,
       "min_width": null,
       "object_fit": null,
       "object_position": null,
       "order": null,
       "overflow": null,
       "overflow_x": null,
       "overflow_y": null,
       "padding": null,
       "right": null,
       "top": null,
       "visibility": null,
       "width": null
      }
     },
     "8480ff55e35a45a5b36ab1497c4b9761": {
      "model_module": "@jupyter-widgets/base",
      "model_module_version": "1.2.0",
      "model_name": "LayoutModel",
      "state": {
       "_model_module": "@jupyter-widgets/base",
       "_model_module_version": "1.2.0",
       "_model_name": "LayoutModel",
       "_view_count": null,
       "_view_module": "@jupyter-widgets/base",
       "_view_module_version": "1.2.0",
       "_view_name": "LayoutView",
       "align_content": null,
       "align_items": null,
       "align_self": null,
       "border": null,
       "bottom": null,
       "display": null,
       "flex": null,
       "flex_flow": null,
       "grid_area": null,
       "grid_auto_columns": null,
       "grid_auto_flow": null,
       "grid_auto_rows": null,
       "grid_column": null,
       "grid_gap": null,
       "grid_row": null,
       "grid_template_areas": null,
       "grid_template_columns": null,
       "grid_template_rows": null,
       "height": null,
       "justify_content": null,
       "justify_items": null,
       "left": null,
       "margin": null,
       "max_height": null,
       "max_width": null,
       "min_height": null,
       "min_width": null,
       "object_fit": null,
       "object_position": null,
       "order": null,
       "overflow": null,
       "overflow_x": null,
       "overflow_y": null,
       "padding": null,
       "right": null,
       "top": null,
       "visibility": null,
       "width": null
      }
     },
     "8a670044a20a416295656290f6315646": {
      "model_module": "@jupyter-widgets/controls",
      "model_module_version": "1.5.0",
      "model_name": "FloatProgressModel",
      "state": {
       "_dom_classes": [],
       "_model_module": "@jupyter-widgets/controls",
       "_model_module_version": "1.5.0",
       "_model_name": "FloatProgressModel",
       "_view_count": null,
       "_view_module": "@jupyter-widgets/controls",
       "_view_module_version": "1.5.0",
       "_view_name": "ProgressView",
       "bar_style": "success",
       "description": "",
       "description_tooltip": null,
       "layout": "IPY_MODEL_8480ff55e35a45a5b36ab1497c4b9761",
       "max": 133546016,
       "min": 0,
       "orientation": "horizontal",
       "style": "IPY_MODEL_061b193ea4bf4dd7a5004b6bf527dd95",
       "value": 133546016
      }
     },
     "8dc2a8f8cd7f479f90f5975e4e7d632b": {
      "model_module": "@jupyter-widgets/controls",
      "model_module_version": "1.5.0",
      "model_name": "HTMLModel",
      "state": {
       "_dom_classes": [],
       "_model_module": "@jupyter-widgets/controls",
       "_model_module_version": "1.5.0",
       "_model_name": "HTMLModel",
       "_view_count": null,
       "_view_module": "@jupyter-widgets/controls",
       "_view_module_version": "1.5.0",
       "_view_name": "HTMLView",
       "description": "",
       "description_tooltip": null,
       "layout": "IPY_MODEL_8f9105fd8fb743899af9d19f26e72ba5",
       "placeholder": "​",
       "style": "IPY_MODEL_32b5673929374d348a20d5b094b12c00",
       "value": "100%"
      }
     },
     "8f9105fd8fb743899af9d19f26e72ba5": {
      "model_module": "@jupyter-widgets/base",
      "model_module_version": "1.2.0",
      "model_name": "LayoutModel",
      "state": {
       "_model_module": "@jupyter-widgets/base",
       "_model_module_version": "1.2.0",
       "_model_name": "LayoutModel",
       "_view_count": null,
       "_view_module": "@jupyter-widgets/base",
       "_view_module_version": "1.2.0",
       "_view_name": "LayoutView",
       "align_content": null,
       "align_items": null,
       "align_self": null,
       "border": null,
       "bottom": null,
       "display": null,
       "flex": null,
       "flex_flow": null,
       "grid_area": null,
       "grid_auto_columns": null,
       "grid_auto_flow": null,
       "grid_auto_rows": null,
       "grid_column": null,
       "grid_gap": null,
       "grid_row": null,
       "grid_template_areas": null,
       "grid_template_columns": null,
       "grid_template_rows": null,
       "height": null,
       "justify_content": null,
       "justify_items": null,
       "left": null,
       "margin": null,
       "max_height": null,
       "max_width": null,
       "min_height": null,
       "min_width": null,
       "object_fit": null,
       "object_position": null,
       "order": null,
       "overflow": null,
       "overflow_x": null,
       "overflow_y": null,
       "padding": null,
       "right": null,
       "top": null,
       "visibility": null,
       "width": null
      }
     },
     "b7e1cfa5d5aa453183183086082e5657": {
      "model_module": "@jupyter-widgets/base",
      "model_module_version": "1.2.0",
      "model_name": "LayoutModel",
      "state": {
       "_model_module": "@jupyter-widgets/base",
       "_model_module_version": "1.2.0",
       "_model_name": "LayoutModel",
       "_view_count": null,
       "_view_module": "@jupyter-widgets/base",
       "_view_module_version": "1.2.0",
       "_view_name": "LayoutView",
       "align_content": null,
       "align_items": null,
       "align_self": null,
       "border": null,
       "bottom": null,
       "display": null,
       "flex": null,
       "flex_flow": null,
       "grid_area": null,
       "grid_auto_columns": null,
       "grid_auto_flow": null,
       "grid_auto_rows": null,
       "grid_column": null,
       "grid_gap": null,
       "grid_row": null,
       "grid_template_areas": null,
       "grid_template_columns": null,
       "grid_template_rows": null,
       "height": null,
       "justify_content": null,
       "justify_items": null,
       "left": null,
       "margin": null,
       "max_height": null,
       "max_width": null,
       "min_height": null,
       "min_width": null,
       "object_fit": null,
       "object_position": null,
       "order": null,
       "overflow": null,
       "overflow_x": null,
       "overflow_y": null,
       "padding": null,
       "right": null,
       "top": null,
       "visibility": null,
       "width": null
      }
     },
     "f97965d742164c48a38b7b4236251d7e": {
      "model_module": "@jupyter-widgets/controls",
      "model_module_version": "1.5.0",
      "model_name": "DescriptionStyleModel",
      "state": {
       "_model_module": "@jupyter-widgets/controls",
       "_model_module_version": "1.5.0",
       "_model_name": "DescriptionStyleModel",
       "_view_count": null,
       "_view_module": "@jupyter-widgets/base",
       "_view_module_version": "1.2.0",
       "_view_name": "StyleView",
       "description_width": ""
      }
     }
    },
    "version_major": 2,
    "version_minor": 0
   }
  }
 },
 "nbformat": 4,
 "nbformat_minor": 5
}
