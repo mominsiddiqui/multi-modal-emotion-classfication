{
 "cells": [
  {
   "cell_type": "code",
   "execution_count": 1,
   "id": "f2f20821",
   "metadata": {
    "collapsed": true,
    "execution": {
     "iopub.execute_input": "2022-05-01T14:56:37.475485Z",
     "iopub.status.busy": "2022-05-01T14:56:37.474778Z",
     "iopub.status.idle": "2022-05-01T14:56:48.651701Z",
     "shell.execute_reply": "2022-05-01T14:56:48.650778Z"
    },
    "jupyter": {
     "outputs_hidden": true
    },
    "papermill": {
     "duration": 11.197472,
     "end_time": "2022-05-01T14:56:48.654306",
     "exception": false,
     "start_time": "2022-05-01T14:56:37.456834",
     "status": "completed"
    },
    "tags": []
   },
   "outputs": [
    {
     "name": "stdout",
     "output_type": "stream",
     "text": [
      "Collecting openpyxl\r\n",
      "  Downloading openpyxl-3.0.9-py2.py3-none-any.whl (242 kB)\r\n",
      "\u001b[2K     \u001b[90m━━━━━━━━━━━━━━━━━━━━━━━━━━━━━━━━━━━━━━━\u001b[0m \u001b[32m242.2/242.2 KB\u001b[0m \u001b[31m1.5 MB/s\u001b[0m eta \u001b[36m0:00:00\u001b[0m\r\n",
      "\u001b[?25hCollecting et-xmlfile\r\n",
      "  Downloading et_xmlfile-1.1.0-py3-none-any.whl (4.7 kB)\r\n",
      "Installing collected packages: et-xmlfile, openpyxl\r\n",
      "Successfully installed et-xmlfile-1.1.0 openpyxl-3.0.9\r\n",
      "\u001b[33mWARNING: Running pip as the 'root' user can result in broken permissions and conflicting behaviour with the system package manager. It is recommended to use a virtual environment instead: https://pip.pypa.io/warnings/venv\u001b[0m\u001b[33m\r\n",
      "\u001b[0m"
     ]
    }
   ],
   "source": [
    "!pip install openpyxl #for loading xlsx files using pandas"
   ]
  },
  {
   "cell_type": "markdown",
   "id": "866dcf4b",
   "metadata": {},
   "source": [
    "## Importing Necessary Libraries"
   ]
  },
  {
   "cell_type": "code",
   "execution_count": 2,
   "id": "ef007d15",
   "metadata": {
    "_cell_guid": "b1076dfc-b9ad-4769-8c92-a6c4dae69d19",
    "_uuid": "8f2839f25d086af736a60e9eeb907d3b93b6e0e5",
    "execution": {
     "iopub.execute_input": "2022-05-01T14:56:48.693775Z",
     "iopub.status.busy": "2022-05-01T14:56:48.692980Z",
     "iopub.status.idle": "2022-05-01T14:56:51.585052Z",
     "shell.execute_reply": "2022-05-01T14:56:51.584276Z"
    },
    "papermill": {
     "duration": 2.91383,
     "end_time": "2022-05-01T14:56:51.587664",
     "exception": false,
     "start_time": "2022-05-01T14:56:48.673834",
     "status": "completed"
    },
    "tags": []
   },
   "outputs": [],
   "source": [
    "import os\n",
    "import copy\n",
    "import pandas as pd\n",
    "import matplotlib.pyplot as plt\n",
    "from PIL import Image    \n",
    "import torch\n",
    "from torch import optim\n",
    "from torch import nn\n",
    "from torch.optim.lr_scheduler import ReduceLROnPlateau\n",
    "from torch.utils.data import Dataset, DataLoader\n",
    "from torchvision import models\n",
    "import torchvision.transforms as transforms\n",
    "from sklearn import metrics\n",
    "from tqdm import tqdm\n",
    "import warnings\n",
    "warnings.filterwarnings('ignore')\n",
    "\n",
    "src = \"..\"\n",
    "device = \"cuda:0\"\n",
    "frame_count = 25"
   ]
  },
  {
   "cell_type": "markdown",
   "id": "702bf260",
   "metadata": {},
   "source": [
    "#### Loading generated dataframe for Train and Valid set"
   ]
  },
  {
   "cell_type": "code",
   "execution_count": 3,
   "id": "58d346fb",
   "metadata": {
    "execution": {
     "iopub.execute_input": "2022-05-01T14:56:51.623751Z",
     "iopub.status.busy": "2022-05-01T14:56:51.623528Z",
     "iopub.status.idle": "2022-05-01T14:56:52.771180Z",
     "shell.execute_reply": "2022-05-01T14:56:52.770485Z"
    },
    "papermill": {
     "duration": 1.168355,
     "end_time": "2022-05-01T14:56:52.773360",
     "exception": false,
     "start_time": "2022-05-01T14:56:51.605005",
     "status": "completed"
    },
    "tags": []
   },
   "outputs": [],
   "source": [
    "Train = pd.read_excel(\"{}/Train.xlsx\".format(src))\n",
    "Valid = pd.read_excel(\"{}/Valid.xlsx\".format(src))"
   ]
  },
  {
   "cell_type": "code",
   "execution_count": 4,
   "id": "22508745",
   "metadata": {
    "execution": {
     "iopub.execute_input": "2022-05-01T14:56:52.810821Z",
     "iopub.status.busy": "2022-05-01T14:56:52.810257Z",
     "iopub.status.idle": "2022-05-01T14:56:52.829844Z",
     "shell.execute_reply": "2022-05-01T14:56:52.829134Z"
    },
    "papermill": {
     "duration": 0.040449,
     "end_time": "2022-05-01T14:56:52.831730",
     "exception": false,
     "start_time": "2022-05-01T14:56:52.791281",
     "status": "completed"
    },
    "tags": []
   },
   "outputs": [
    {
     "data": {
      "text/html": [
       "<div>\n",
       "<style scoped>\n",
       "    .dataframe tbody tr th:only-of-type {\n",
       "        vertical-align: middle;\n",
       "    }\n",
       "\n",
       "    .dataframe tbody tr th {\n",
       "        vertical-align: top;\n",
       "    }\n",
       "\n",
       "    .dataframe thead th {\n",
       "        text-align: right;\n",
       "    }\n",
       "</style>\n",
       "<table border=\"1\" class=\"dataframe\">\n",
       "  <thead>\n",
       "    <tr style=\"text-align: right;\">\n",
       "      <th></th>\n",
       "      <th>ID</th>\n",
       "      <th>Path</th>\n",
       "      <th>Modality</th>\n",
       "      <th>Vocal Channel</th>\n",
       "      <th>Emotion</th>\n",
       "      <th>Emotional intensity</th>\n",
       "      <th>Statement</th>\n",
       "      <th>Repetition</th>\n",
       "      <th>Actor</th>\n",
       "    </tr>\n",
       "  </thead>\n",
       "  <tbody>\n",
       "    <tr>\n",
       "      <th>0</th>\n",
       "      <td>01-01-01-01-01-01-01</td>\n",
       "      <td>audio-video/Actor_01/01-01-01-01-01-01-01.mp4</td>\n",
       "      <td>full-AV</td>\n",
       "      <td>speech</td>\n",
       "      <td>neutral</td>\n",
       "      <td>normal</td>\n",
       "      <td>Kids are talking by the door</td>\n",
       "      <td>1st repetition</td>\n",
       "      <td>1</td>\n",
       "    </tr>\n",
       "    <tr>\n",
       "      <th>1</th>\n",
       "      <td>01-01-01-01-01-02-01</td>\n",
       "      <td>audio-video/Actor_01/01-01-01-01-01-02-01.mp4</td>\n",
       "      <td>full-AV</td>\n",
       "      <td>speech</td>\n",
       "      <td>neutral</td>\n",
       "      <td>normal</td>\n",
       "      <td>Kids are talking by the door</td>\n",
       "      <td>2nd repetition</td>\n",
       "      <td>1</td>\n",
       "    </tr>\n",
       "    <tr>\n",
       "      <th>2</th>\n",
       "      <td>01-01-01-01-02-01-01</td>\n",
       "      <td>audio-video/Actor_01/01-01-01-01-02-01-01.mp4</td>\n",
       "      <td>full-AV</td>\n",
       "      <td>speech</td>\n",
       "      <td>neutral</td>\n",
       "      <td>normal</td>\n",
       "      <td>Dogs are sitting by the door</td>\n",
       "      <td>1st repetition</td>\n",
       "      <td>1</td>\n",
       "    </tr>\n",
       "    <tr>\n",
       "      <th>3</th>\n",
       "      <td>01-01-01-01-02-02-01</td>\n",
       "      <td>audio-video/Actor_01/01-01-01-01-02-02-01.mp4</td>\n",
       "      <td>full-AV</td>\n",
       "      <td>speech</td>\n",
       "      <td>neutral</td>\n",
       "      <td>normal</td>\n",
       "      <td>Dogs are sitting by the door</td>\n",
       "      <td>2nd repetition</td>\n",
       "      <td>1</td>\n",
       "    </tr>\n",
       "    <tr>\n",
       "      <th>4</th>\n",
       "      <td>01-01-02-01-01-01-01</td>\n",
       "      <td>audio-video/Actor_01/01-01-02-01-01-01-01.mp4</td>\n",
       "      <td>full-AV</td>\n",
       "      <td>speech</td>\n",
       "      <td>calm</td>\n",
       "      <td>normal</td>\n",
       "      <td>Kids are talking by the door</td>\n",
       "      <td>1st repetition</td>\n",
       "      <td>1</td>\n",
       "    </tr>\n",
       "  </tbody>\n",
       "</table>\n",
       "</div>"
      ],
      "text/plain": [
       "                     ID                                           Path  \\\n",
       "0  01-01-01-01-01-01-01  audio-video/Actor_01/01-01-01-01-01-01-01.mp4   \n",
       "1  01-01-01-01-01-02-01  audio-video/Actor_01/01-01-01-01-01-02-01.mp4   \n",
       "2  01-01-01-01-02-01-01  audio-video/Actor_01/01-01-01-01-02-01-01.mp4   \n",
       "3  01-01-01-01-02-02-01  audio-video/Actor_01/01-01-01-01-02-02-01.mp4   \n",
       "4  01-01-02-01-01-01-01  audio-video/Actor_01/01-01-02-01-01-01-01.mp4   \n",
       "\n",
       "  Modality Vocal Channel  Emotion Emotional intensity  \\\n",
       "0  full-AV        speech  neutral              normal   \n",
       "1  full-AV        speech  neutral              normal   \n",
       "2  full-AV        speech  neutral              normal   \n",
       "3  full-AV        speech  neutral              normal   \n",
       "4  full-AV        speech     calm              normal   \n",
       "\n",
       "                      Statement      Repetition  Actor  \n",
       "0  Kids are talking by the door  1st repetition      1  \n",
       "1  Kids are talking by the door  2nd repetition      1  \n",
       "2  Dogs are sitting by the door  1st repetition      1  \n",
       "3  Dogs are sitting by the door  2nd repetition      1  \n",
       "4  Kids are talking by the door  1st repetition      1  "
      ]
     },
     "execution_count": 4,
     "metadata": {},
     "output_type": "execute_result"
    }
   ],
   "source": [
    "Train.head()"
   ]
  },
  {
   "cell_type": "code",
   "execution_count": 5,
   "id": "8937dab9",
   "metadata": {
    "execution": {
     "iopub.execute_input": "2022-05-01T14:56:52.868708Z",
     "iopub.status.busy": "2022-05-01T14:56:52.868473Z",
     "iopub.status.idle": "2022-05-01T14:56:52.872951Z",
     "shell.execute_reply": "2022-05-01T14:56:52.872253Z"
    },
    "papermill": {
     "duration": 0.024846,
     "end_time": "2022-05-01T14:56:52.874675",
     "exception": false,
     "start_time": "2022-05-01T14:56:52.849829",
     "status": "completed"
    },
    "tags": []
   },
   "outputs": [],
   "source": [
    "emotion = {\n",
    "    \"neutral\": 0, \n",
    "    \"calm\": 1, \n",
    "    \"happy\": 2, \n",
    "    \"sad\": 3, \n",
    "    \"angry\": 4, \n",
    "    \"fearful\": 5, \n",
    "    \"disgust\": 6, \n",
    "    \"surprised\": 7\n",
    "}\n",
    "\n",
    "reverse_emotion = {y: x for x, y in emotion.items()}"
   ]
  },
  {
   "cell_type": "markdown",
   "id": "3691d7a1",
   "metadata": {},
   "source": [
    "## Initializing custom Dataset class"
   ]
  },
  {
   "cell_type": "markdown",
   "id": "54073bfd",
   "metadata": {},
   "source": [
    "#### Stacking frames per video for Resnet18Rnn"
   ]
  },
  {
   "cell_type": "code",
   "execution_count": 6,
   "id": "241a59c3",
   "metadata": {
    "execution": {
     "iopub.execute_input": "2022-05-01T14:56:52.911616Z",
     "iopub.status.busy": "2022-05-01T14:56:52.911399Z",
     "iopub.status.idle": "2022-05-01T14:56:52.920003Z",
     "shell.execute_reply": "2022-05-01T14:56:52.918848Z"
    },
    "papermill": {
     "duration": 0.02914,
     "end_time": "2022-05-01T14:56:52.921705",
     "exception": false,
     "start_time": "2022-05-01T14:56:52.892565",
     "status": "completed"
    },
    "tags": []
   },
   "outputs": [],
   "source": [
    "class myDataset(Dataset):\n",
    "    def __init__(self, df, path, frame_count, emotion, transform=None):\n",
    "        self.df = df\n",
    "        self.path = path\n",
    "        self.frame_count = frame_count\n",
    "        self.emotion = emotion\n",
    "        self.transform = transform\n",
    "    \n",
    "    def __len__(self):\n",
    "        return self.df.shape[0]\n",
    "    \n",
    "    def __getitem__(self, idx):\n",
    "        directory = \"{}/{}\".format(self.path, self.df[\"ID\"].iloc[idx]) #name of a video\n",
    "        files = [\"{}/{}\".format(directory, x) for x in os.listdir(directory)] #list of all stored frames in a given video\n",
    "        frames = []\n",
    "        for file in files[:self.frame_count]:\n",
    "            image = Image.open(file)\n",
    "            image = self.transform(image)\n",
    "            frames.append(image) #appending frame to list\n",
    "        imgs_tensor = torch.stack(frames) #(3, 25, 112, 112)\n",
    "        label = self.emotion[self.df[\"Emotion\"].iloc[idx]]  #converting label to index\n",
    "        \n",
    "        return imgs_tensor, label"
   ]
  },
  {
   "cell_type": "markdown",
   "id": "a973c3e8",
   "metadata": {},
   "source": [
    "#### Instantiating dataset and dataloader, and using a simple transform for marking baseline performance"
   ]
  },
  {
   "cell_type": "code",
   "execution_count": 7,
   "id": "23e6e0b4",
   "metadata": {
    "execution": {
     "iopub.execute_input": "2022-05-01T14:56:52.958869Z",
     "iopub.status.busy": "2022-05-01T14:56:52.958636Z",
     "iopub.status.idle": "2022-05-01T14:56:52.964451Z",
     "shell.execute_reply": "2022-05-01T14:56:52.963796Z"
    },
    "papermill": {
     "duration": 0.026728,
     "end_time": "2022-05-01T14:56:52.966270",
     "exception": false,
     "start_time": "2022-05-01T14:56:52.939542",
     "status": "completed"
    },
    "tags": []
   },
   "outputs": [],
   "source": [
    "transform = transforms.Compose([\n",
    "            transforms.Resize((224,224)),\n",
    "            transforms.ToTensor(),\n",
    "            transforms.Normalize(\n",
    "                [0.485, 0.456, 0.406], \n",
    "                [0.229, 0.224, 0.225]\n",
    "            )\n",
    "]) \n",
    "\n",
    "src = \"../frames\"\n",
    "trainset = myDataset(Train, src, frame_count, emotion, transform)\n",
    "validset = myDataset(Valid, src, frame_count, emotion, transform)\n",
    "\n",
    "trainloader = DataLoader(trainset, batch_size=4, shuffle=True)\n",
    "validloader = DataLoader(validset, batch_size=2, shuffle=False)"
   ]
  },
  {
   "cell_type": "code",
   "execution_count": 8,
   "id": "7e2df818",
   "metadata": {
    "execution": {
     "iopub.execute_input": "2022-05-01T14:56:53.006037Z",
     "iopub.status.busy": "2022-05-01T14:56:53.005779Z",
     "iopub.status.idle": "2022-05-01T14:56:54.268989Z",
     "shell.execute_reply": "2022-05-01T14:56:54.267035Z"
    },
    "papermill": {
     "duration": 1.284502,
     "end_time": "2022-05-01T14:56:54.270840",
     "exception": false,
     "start_time": "2022-05-01T14:56:52.986338",
     "status": "completed"
    },
    "tags": []
   },
   "outputs": [
    {
     "name": "stdout",
     "output_type": "stream",
     "text": [
      "torch.Size([4, 25, 3, 224, 224]) torch.Size([4])\n"
     ]
    }
   ],
   "source": [
    "image, label = next(iter(trainloader)) #verifying shape of image and label from dataloader\n",
    "print(image.shape, label.shape)"
   ]
  },
  {
   "cell_type": "markdown",
   "id": "a2c68ce5",
   "metadata": {},
   "source": [
    "## Initializing custom Model class"
   ]
  },
  {
   "cell_type": "markdown",
   "id": "dd0065d5",
   "metadata": {},
   "source": [
    "#### We used a Resnet18 model that had been pre-trained on the ImageNet dataset as the feature extractor. The extracted features were then fed to an RNN layer to extract the temporal correlation. The output of the RNN layer was fed to a fully connected layer to get the classification output."
   ]
  },
  {
   "cell_type": "code",
   "execution_count": 9,
   "id": "f398adba",
   "metadata": {
    "execution": {
     "iopub.execute_input": "2022-05-01T14:56:54.308869Z",
     "iopub.status.busy": "2022-05-01T14:56:54.308615Z",
     "iopub.status.idle": "2022-05-01T14:56:54.318673Z",
     "shell.execute_reply": "2022-05-01T14:56:54.317993Z"
    },
    "papermill": {
     "duration": 0.030701,
     "end_time": "2022-05-01T14:56:54.320255",
     "exception": false,
     "start_time": "2022-05-01T14:56:54.289554",
     "status": "completed"
    },
    "tags": []
   },
   "outputs": [],
   "source": [
    "class Resnet18Rnn(nn.Module):\n",
    "    def __init__(self, config):\n",
    "        super(Resnet18Rnn, self).__init__()\n",
    "        num_classes = config[\"num_classes\"]\n",
    "        dropout = config[\"dropout\"]\n",
    "        rnn_hidden_size = config[\"rnn_hidden_size\"]\n",
    "        rnn_num_layers = config[\"rnn_num_layers\"]\n",
    "        \n",
    "        baseModel = models.resnet18(pretrained=True) #backbone convolutional network\n",
    "        num_features = baseModel.fc.in_features\n",
    "        baseModel.fc = Identity() #passing identity to the subsequent layer\n",
    "        \n",
    "        self.baseModel = baseModel\n",
    "        self.dropout= nn.Dropout(dropout)\n",
    "        self.rnn = nn.LSTM(num_features, rnn_hidden_size, rnn_num_layers) #rnn\n",
    "        self.fc = nn.Linear(rnn_hidden_size, num_classes) #replacing final layer with linear layer for custom num_classes\n",
    "    \n",
    "    def forward(self, x):\n",
    "        b_z, ts, c, h, w = x.shape\n",
    "        ii = 0\n",
    "        y = self.baseModel((x[:,ii]))\n",
    "        output, (hn, cn) = self.rnn(y.unsqueeze(1))\n",
    "        #passing frames one by one through the rnn \n",
    "        for ii in range(1, ts):\n",
    "            y = self.baseModel((x[:,ii]))\n",
    "            out, (hn, cn) = self.rnn(y.unsqueeze(1), (hn, cn))\n",
    "        out = self.dropout(out[:,-1]) #regularization using dropout\n",
    "        out = self.fc(out) #passing output vector from rnn to through a dense layer\n",
    "        return out \n",
    "    \n",
    "class Identity(nn.Module):\n",
    "    def __init__(self):\n",
    "        super(Identity, self).__init__()\n",
    "    def forward(self, x):\n",
    "        return x    "
   ]
  },
  {
   "cell_type": "markdown",
   "id": "ab86d094",
   "metadata": {},
   "source": [
    "## Defining configuration for training"
   ]
  },
  {
   "cell_type": "code",
   "execution_count": 10,
   "id": "1bb99196",
   "metadata": {
    "execution": {
     "iopub.execute_input": "2022-05-01T14:56:54.358656Z",
     "iopub.status.busy": "2022-05-01T14:56:54.357906Z",
     "iopub.status.idle": "2022-05-01T14:56:54.363071Z",
     "shell.execute_reply": "2022-05-01T14:56:54.362432Z"
    },
    "papermill": {
     "duration": 0.02603,
     "end_time": "2022-05-01T14:56:54.364717",
     "exception": false,
     "start_time": "2022-05-01T14:56:54.338687",
     "status": "completed"
    },
    "tags": []
   },
   "outputs": [],
   "source": [
    "config = {  \n",
    "    \"epochs\": 15,\n",
    "    \"path2weights\": \"/kaggle/working/best.pt\",\n",
    "    \"num_classes\": len(emotion.keys()),\n",
    "    \"dropout\": 0.1,\n",
    "    \"pretrained\" : True,\n",
    "    \"rnn_num_layers\": 1,\n",
    "    \"rnn_hidden_size\": 100,\n",
    "    \"trainloader\": trainloader,\n",
    "    \"validloader\": validloader,\n",
    "    \"sanity_check\": False,\n",
    "}"
   ]
  },
  {
   "cell_type": "markdown",
   "id": "b21eadf0",
   "metadata": {},
   "source": [
    "## Defining functions for training model"
   ]
  },
  {
   "cell_type": "code",
   "execution_count": 11,
   "id": "ed6e3a95",
   "metadata": {
    "execution": {
     "iopub.execute_input": "2022-05-01T14:56:54.403820Z",
     "iopub.status.busy": "2022-05-01T14:56:54.403613Z",
     "iopub.status.idle": "2022-05-01T14:56:54.420747Z",
     "shell.execute_reply": "2022-05-01T14:56:54.419911Z"
    },
    "papermill": {
     "duration": 0.038766,
     "end_time": "2022-05-01T14:56:54.422746",
     "exception": false,
     "start_time": "2022-05-01T14:56:54.383980",
     "status": "completed"
    },
    "tags": []
   },
   "outputs": [],
   "source": [
    "def trainModel(model, criterion, optimizer, scheduler, config):\n",
    "    epochs=config[\"epochs\"]\n",
    "    trainloader=config[\"trainloader\"]\n",
    "    validloader=config[\"validloader\"]\n",
    "    sanity_check=config[\"sanity_check\"]\n",
    "    path2weights=config[\"path2weights\"]\n",
    "    \n",
    "    #for plotting\n",
    "    loss_history={\n",
    "        \"train\": [],\n",
    "        \"val\": [],\n",
    "    }\n",
    "    #for plotting\n",
    "    metric_history={\n",
    "        \"train\": [],\n",
    "        \"val\": [],\n",
    "    }\n",
    "    \n",
    "    best_model_wts = copy.deepcopy(model.state_dict())\n",
    "    best_loss=float('inf')\n",
    "    \n",
    "    for epoch in range(epochs):\n",
    "        current_lr=get_lr(optimizer)\n",
    "        print('Epoch {}/{}, current lr = {}'.format(epoch, epochs-1, current_lr))\n",
    "        model.train() #for training\n",
    "        train_loss, train_metric = oneEpoch(model, criterion, trainloader, sanity_check, optimizer) #one training epoch\n",
    "        loss_history[\"train\"].append(train_loss)\n",
    "        metric_history[\"train\"].append(train_metric)\n",
    "        model.eval() #for validation\n",
    "        with torch.no_grad():\n",
    "            val_loss, val_metric = oneEpoch(model, criterion, validloader, sanity_check) #one validation epoch\n",
    "        #saving weights from best model\n",
    "        if val_loss < best_loss:\n",
    "            best_loss = val_loss\n",
    "            best_model_wts = copy.deepcopy(model.state_dict())\n",
    "            torch.save(model.state_dict(), path2weights)\n",
    "            print(\"Copied best model weights!\")\n",
    "        \n",
    "        loss_history[\"val\"].append(val_loss)\n",
    "        metric_history[\"val\"].append(val_metric)\n",
    "        \n",
    "        #updating learning rate scheduler\n",
    "        scheduler.step(val_loss)\n",
    "        if current_lr != get_lr(optimizer):\n",
    "            print(\"Loading best model weights!\")\n",
    "            model.load_state_dict(best_model_wts)\n",
    "\n",
    "        print(\"Train Loss: %.6f, Val Loss: %.6f, Val Acc: %.2f\" %(train_loss,val_loss,100*val_metric))\n",
    "        print(\"-\"*10) \n",
    "    #reloading best weights\n",
    "    model.load_state_dict(best_model_wts)\n",
    "        \n",
    "    return model, loss_history, metric_history\n",
    "\n",
    "\n",
    "# get learning rate \n",
    "def get_lr(optimizer):\n",
    "    for param_group in optimizer.param_groups:\n",
    "        return param_group['lr']\n",
    "\n",
    "#get metrics for a batch\n",
    "def metrics_batch(output, target):\n",
    "    pred = output.argmax(dim=1, keepdim=True) #picking highest probability index\n",
    "    corrects = pred.eq(target.view_as(pred)).sum().item()\n",
    "    return corrects\n",
    "\n",
    "#performing backward propagation\n",
    "def loss_batch(criterion, output, target, optimizer=None):\n",
    "    loss = criterion(output, target)\n",
    "    with torch.no_grad():\n",
    "        metric_b = metrics_batch(output,target)\n",
    "    if optimizer is not None:\n",
    "        optimizer.zero_grad()\n",
    "        loss.backward()\n",
    "        optimizer.step()\n",
    "    return loss.item(), metric_b\n",
    "        \n",
    "#iterating through all batches in a given epoch\n",
    "def oneEpoch(model, criterion, dataloader, sanity_check=False, optimizer=None):\n",
    "    running_loss, running_metric = 0.0, 0.0\n",
    "    len_data = len(dataloader.dataset)\n",
    "    for inputs, labels in dataloader:\n",
    "        inputs, labels = inputs.to(device), labels.to(device) #shifting data to gpu from cpu\n",
    "        output = model(inputs)\n",
    "        loss_b, metric_b = loss_batch(criterion, output, labels, optimizer)\n",
    "        running_loss += loss_b\n",
    "        \n",
    "        if metric_b is not None:\n",
    "            running_metric += metric_b\n",
    "        if sanity_check is True:\n",
    "            break\n",
    "    loss=running_loss/float(len_data)\n",
    "    metric=running_metric/float(len_data)\n",
    "    return loss, metric"
   ]
  },
  {
   "cell_type": "markdown",
   "id": "db423b45",
   "metadata": {},
   "source": [
    "## Starting training"
   ]
  },
  {
   "cell_type": "code",
   "execution_count": 12,
   "id": "e623d260",
   "metadata": {
    "execution": {
     "iopub.execute_input": "2022-05-01T14:56:54.460726Z",
     "iopub.status.busy": "2022-05-01T14:56:54.460193Z",
     "iopub.status.idle": "2022-05-01T17:55:39.353043Z",
     "shell.execute_reply": "2022-05-01T17:55:39.352274Z"
    },
    "papermill": {
     "duration": 10724.940487,
     "end_time": "2022-05-01T17:55:39.381572",
     "exception": false,
     "start_time": "2022-05-01T14:56:54.441085",
     "status": "completed"
    },
    "tags": []
   },
   "outputs": [
    {
     "name": "stderr",
     "output_type": "stream",
     "text": [
      "Downloading: \"https://download.pytorch.org/models/resnet18-f37072fd.pth\" to /root/.cache/torch/hub/checkpoints/resnet18-f37072fd.pth\n"
     ]
    },
    {
     "data": {
      "application/vnd.jupyter.widget-view+json": {
       "model_id": "1fa752acb2b34cada2d2d4cfa5b83fda",
       "version_major": 2,
       "version_minor": 0
      },
      "text/plain": [
       "  0%|          | 0.00/44.7M [00:00<?, ?B/s]"
      ]
     },
     "metadata": {},
     "output_type": "display_data"
    },
    {
     "name": "stdout",
     "output_type": "stream",
     "text": [
      "Epoch 0/14, current lr = 0.0003\n",
      "Copied best model weights!\n",
      "Train Loss: 1.612164, Val Loss: 1.701632, Val Acc: 43.96\n",
      "----------\n",
      "Epoch 1/14, current lr = 0.0003\n",
      "Copied best model weights!\n",
      "Train Loss: 1.203261, Val Loss: 1.471352, Val Acc: 48.12\n",
      "----------\n",
      "Epoch 2/14, current lr = 0.0003\n",
      "Train Loss: 0.922868, Val Loss: 1.646723, Val Acc: 40.42\n",
      "----------\n",
      "Epoch 3/14, current lr = 0.0003\n",
      "Train Loss: 0.710700, Val Loss: 1.722182, Val Acc: 45.83\n",
      "----------\n",
      "Epoch 4/14, current lr = 0.0003\n",
      "Train Loss: 0.536965, Val Loss: 1.676668, Val Acc: 50.00\n",
      "----------\n",
      "Epoch 5/14, current lr = 0.0003\n",
      "Train Loss: 0.377825, Val Loss: 2.035226, Val Acc: 42.08\n",
      "----------\n",
      "Epoch 6/14, current lr = 0.0003\n",
      "Train Loss: 0.295682, Val Loss: 2.249023, Val Acc: 40.21\n",
      "----------\n",
      "Epoch 7/14, current lr = 0.0003\n",
      "Epoch     8: reducing learning rate of group 0 to 1.5000e-04.\n",
      "Loading best model weights!\n",
      "Train Loss: 0.198581, Val Loss: 2.334355, Val Acc: 40.83\n",
      "----------\n",
      "Epoch 8/14, current lr = 0.00015\n",
      "Train Loss: 0.811404, Val Loss: 1.698222, Val Acc: 40.00\n",
      "----------\n",
      "Epoch 9/14, current lr = 0.00015\n",
      "Train Loss: 0.556261, Val Loss: 1.737558, Val Acc: 45.83\n",
      "----------\n",
      "Epoch 10/14, current lr = 0.00015\n",
      "Train Loss: 0.348775, Val Loss: 1.799746, Val Acc: 45.42\n",
      "----------\n",
      "Epoch 11/14, current lr = 0.00015\n",
      "Train Loss: 0.270679, Val Loss: 1.711807, Val Acc: 47.92\n",
      "----------\n",
      "Epoch 12/14, current lr = 0.00015\n",
      "Train Loss: 0.185469, Val Loss: 1.783820, Val Acc: 47.29\n",
      "----------\n",
      "Epoch 13/14, current lr = 0.00015\n",
      "Epoch    14: reducing learning rate of group 0 to 7.5000e-05.\n",
      "Loading best model weights!\n",
      "Train Loss: 0.173828, Val Loss: 2.753731, Val Acc: 31.87\n",
      "----------\n",
      "Epoch 14/14, current lr = 7.5e-05\n",
      "Copied best model weights!\n",
      "Train Loss: 0.767905, Val Loss: 1.443053, Val Acc: 47.71\n",
      "----------\n"
     ]
    }
   ],
   "source": [
    "model = Resnet18Rnn(config)  #instantiating model\n",
    "model.to(device) #shifting model to gpu from cpu\n",
    "criterion = nn.CrossEntropyLoss(reduction=\"sum\") #loss function\n",
    "optimizer = optim.Adam(model.parameters(), lr=3e-4) #optimizer\n",
    "scheduler = ReduceLROnPlateau(optimizer, mode='min',factor=0.5, patience=5,verbose=1) #learning rate scheduler\n",
    "model, loss_history, metric_history = trainModel(model, criterion, optimizer, scheduler, config)"
   ]
  },
  {
   "cell_type": "markdown",
   "id": "df85974f",
   "metadata": {},
   "source": [
    "## Plotting Graphs"
   ]
  },
  {
   "cell_type": "code",
   "execution_count": 13,
   "id": "c68ef3c1",
   "metadata": {
    "execution": {
     "iopub.execute_input": "2022-05-01T17:55:39.433969Z",
     "iopub.status.busy": "2022-05-01T17:55:39.433739Z",
     "iopub.status.idle": "2022-05-01T17:55:39.441264Z",
     "shell.execute_reply": "2022-05-01T17:55:39.440438Z"
    },
    "papermill": {
     "duration": 0.035658,
     "end_time": "2022-05-01T17:55:39.443436",
     "exception": false,
     "start_time": "2022-05-01T17:55:39.407778",
     "status": "completed"
    },
    "tags": []
   },
   "outputs": [],
   "source": [
    "def plot_loss(loss_hist, metric_hist):\n",
    "\n",
    "    epochs= len(loss_hist[\"train\"])\n",
    "\n",
    "    plt.title(\"Train-Val Loss\")\n",
    "    plt.plot(range(1, epochs+1),loss_hist[\"train\"],label=\"train\")\n",
    "    plt.plot(range(1, epochs+1),loss_hist[\"val\"],label=\"val\")\n",
    "    plt.ylabel(\"Loss\")\n",
    "    plt.xlabel(\"Training Epochs\")\n",
    "    plt.legend()\n",
    "    plt.show()\n",
    "\n",
    "    plt.title(\"Train-Val Accuracy\")\n",
    "    plt.plot(range(1, epochs+1), metric_hist[\"train\"],label=\"train\")\n",
    "    plt.plot(range(1, epochs+1), metric_hist[\"val\"],label=\"val\")\n",
    "    plt.ylabel(\"Accuracy\")\n",
    "    plt.xlabel(\"Training Epochs\")\n",
    "    plt.legend()\n",
    "    plt.show()"
   ]
  },
  {
   "cell_type": "code",
   "execution_count": 14,
   "id": "27e9cd2a",
   "metadata": {
    "execution": {
     "iopub.execute_input": "2022-05-01T17:55:39.495955Z",
     "iopub.status.busy": "2022-05-01T17:55:39.495721Z",
     "iopub.status.idle": "2022-05-01T17:55:39.890586Z",
     "shell.execute_reply": "2022-05-01T17:55:39.889901Z"
    },
    "papermill": {
     "duration": 0.424121,
     "end_time": "2022-05-01T17:55:39.892805",
     "exception": false,
     "start_time": "2022-05-01T17:55:39.468684",
     "status": "completed"
    },
    "tags": []
   },
   "outputs": [
    {
     "data": {
      "image/png": "[encoded data removed]",
      "text/plain": [
       "<Figure size 432x288 with 1 Axes>"
      ]
     },
     "metadata": {
      "needs_background": "light"
     },
     "output_type": "display_data"
    },
    {
     "data": {
      "image/png": "[encoded data removed]",
      "text/plain": [
       "<Figure size 432x288 with 1 Axes>"
      ]
     },
     "metadata": {
      "needs_background": "light"
     },
     "output_type": "display_data"
    }
   ],
   "source": [
    "plot_loss(loss_history, metric_history)"
   ]
  },
  {
   "cell_type": "markdown",
   "id": "7cb7f11c",
   "metadata": {},
   "source": [
    "#### Confusion Matrix and Classification Report (Precision, Recall, F1-Score) for Validation Set"
   ]
  },
  {
   "cell_type": "code",
   "execution_count": 15,
   "id": "dfb051f6",
   "metadata": {
    "execution": {
     "iopub.execute_input": "2022-05-01T17:55:39.946536Z",
     "iopub.status.busy": "2022-05-01T17:55:39.945894Z",
     "iopub.status.idle": "2022-05-01T17:57:15.315352Z",
     "shell.execute_reply": "2022-05-01T17:57:15.312146Z"
    },
    "papermill": {
     "duration": 95.39955,
     "end_time": "2022-05-01T17:57:15.318561",
     "exception": false,
     "start_time": "2022-05-01T17:55:39.919011",
     "status": "completed"
    },
    "tags": []
   },
   "outputs": [
    {
     "name": "stderr",
     "output_type": "stream",
     "text": [
      "100%|██████████| 240/240 [01:35<00:00,  2.52it/s]"
     ]
    },
    {
     "name": "stdout",
     "output_type": "stream",
     "text": [
      "CONFUSION MATRIX\n",
      "\n",
      "[[30  9  6  0  0  8  8  3]\n",
      " [ 0 42  0  0  5 14  0  3]\n",
      " [12  0 31  2  0  4 10  5]\n",
      " [ 8  2  2 33  0  2 10  7]\n",
      " [ 0 22  0  0 38  0  0  4]\n",
      " [ 3 12  0  0  0 10  0  7]\n",
      " [ 4  6  6  2  2 12 32  0]\n",
      " [ 4 12  0 20  0  5 10 13]]\n",
      "\n",
      "\n",
      "CLASSIFICATION REPORT\n",
      "\n",
      "              precision    recall  f1-score   support\n",
      "\n",
      "       angry      0.492     0.469     0.480        64\n",
      "        calm      0.400     0.656     0.497        64\n",
      "     disgust      0.689     0.484     0.569        64\n",
      "     fearful      0.579     0.516     0.545        64\n",
      "       happy      0.844     0.594     0.697        64\n",
      "     neutral      0.182     0.312     0.230        32\n",
      "         sad      0.457     0.500     0.478        64\n",
      "   surprised      0.310     0.203     0.245        64\n",
      "\n",
      "    accuracy                          0.477       480\n",
      "   macro avg      0.494     0.467     0.468       480\n",
      "weighted avg      0.515     0.477     0.484       480\n",
      "\n"
     ]
    },
    {
     "name": "stderr",
     "output_type": "stream",
     "text": [
      "\n"
     ]
    }
   ],
   "source": [
    "testset = myDataset(Valid, src, frame_count, emotion, transform)\n",
    "testloader = DataLoader(testset, batch_size=2, shuffle=False)\n",
    "\n",
    "lbl_list, out_list = [], []\n",
    "for inputs, labels in tqdm(testloader):\n",
    "    inputs, labels = inputs.to(device), labels.to(device) #shifting data to gpu from cpu\n",
    "    output = model(inputs).argmax(dim=1, keepdim=True) #picking highest probability index\n",
    "    lbl_list.extend(labels)\n",
    "    out_list.extend(output)\n",
    "\n",
    "pred = [reverse_emotion[x.item()] for x in out_list]\n",
    "true = [reverse_emotion[x.item()] for x in lbl_list]\n",
    "\n",
    "print(\"CONFUSION MATRIX\\n\")\n",
    "print(metrics.confusion_matrix(true, pred))\n",
    "print(\"\\n\\nCLASSIFICATION REPORT\\n\")\n",
    "print(metrics.classification_report(true, pred, digits=3));"
   ]
  },
  {
   "cell_type": "markdown",
   "id": "d0660916",
   "metadata": {},
   "source": [
    "#### Confusion Matrix and Classification Report (Precision, Recall, F1-Score) for Validation Set with respect to each sentence"
   ]
  },
  {
   "cell_type": "code",
   "execution_count": 16,
   "id": "8c0f7efc",
   "metadata": {
    "execution": {
     "iopub.execute_input": "2022-05-01T17:57:15.536472Z",
     "iopub.status.busy": "2022-05-01T17:57:15.535627Z",
     "iopub.status.idle": "2022-05-01T17:58:49.338595Z",
     "shell.execute_reply": "2022-05-01T17:58:49.337808Z"
    },
    "papermill": {
     "duration": 93.913434,
     "end_time": "2022-05-01T17:58:49.343247",
     "exception": false,
     "start_time": "2022-05-01T17:57:15.429813",
     "status": "completed"
    },
    "tags": []
   },
   "outputs": [
    {
     "name": "stderr",
     "output_type": "stream",
     "text": [
      "100%|██████████| 120/120 [00:46<00:00,  2.57it/s]\n"
     ]
    },
    {
     "name": "stdout",
     "output_type": "stream",
     "text": [
      "CONFUSION MATRIX for 'Kids are talking by the door'\n",
      "\n",
      "[[13  4  6  0  0  2  6  1]\n",
      " [ 0 23  0  0  4  4  0  1]\n",
      " [ 4  0 11  1  0  4  8  4]\n",
      " [ 2  0  2 17  0  0  6  5]\n",
      " [ 0 10  0  0 20  0  0  2]\n",
      " [ 1  8  0  0  0  2  0  5]\n",
      " [ 2  4  2  0  0  4 20  0]\n",
      " [ 2  6  0 10  0  1  5  8]]\n",
      "\n",
      "\n",
      "CLASSIFICATION REPORT for 'Kids are talking by the door'\n",
      "\n",
      "              precision    recall  f1-score   support\n",
      "\n",
      "       angry      0.542     0.406     0.464        32\n",
      "        calm      0.418     0.719     0.529        32\n",
      "     disgust      0.524     0.344     0.415        32\n",
      "     fearful      0.607     0.531     0.567        32\n",
      "       happy      0.833     0.625     0.714        32\n",
      "     neutral      0.118     0.125     0.121        16\n",
      "         sad      0.444     0.625     0.519        32\n",
      "   surprised      0.308     0.250     0.276        32\n",
      "\n",
      "    accuracy                          0.475       240\n",
      "   macro avg      0.474     0.453     0.451       240\n",
      "weighted avg      0.498     0.475     0.473       240\n",
      "\n",
      "\n",
      "\n",
      "\n"
     ]
    },
    {
     "name": "stderr",
     "output_type": "stream",
     "text": [
      "100%|██████████| 120/120 [00:47<00:00,  2.55it/s]"
     ]
    },
    {
     "name": "stdout",
     "output_type": "stream",
     "text": [
      "CONFUSION MATRIX for 'Dogs are sitting by the door'\n",
      "\n",
      "[[17  5  0  0  0  6  2  2]\n",
      " [ 0 19  0  0  1 10  0  2]\n",
      " [ 8  0 20  1  0  0  2  1]\n",
      " [ 6  2  0 16  0  2  4  2]\n",
      " [ 0 12  0  0 18  0  0  2]\n",
      " [ 2  4  0  0  0  8  0  2]\n",
      " [ 2  2  4  2  2  8 12  0]\n",
      " [ 2  6  0 10  0  4  5  5]]\n",
      "\n",
      "\n",
      "CLASSIFICATION REPORT for 'Dogs are sitting by the door'\n",
      "\n",
      "              precision    recall  f1-score   support\n",
      "\n",
      "       angry      0.459     0.531     0.493        32\n",
      "        calm      0.380     0.594     0.463        32\n",
      "     disgust      0.833     0.625     0.714        32\n",
      "     fearful      0.552     0.500     0.525        32\n",
      "       happy      0.857     0.562     0.679        32\n",
      "     neutral      0.211     0.500     0.296        16\n",
      "         sad      0.480     0.375     0.421        32\n",
      "   surprised      0.312     0.156     0.208        32\n",
      "\n",
      "    accuracy                          0.479       240\n",
      "   macro avg      0.511     0.480     0.475       240\n",
      "weighted avg      0.531     0.479     0.487       240\n",
      "\n",
      "\n",
      "\n",
      "\n"
     ]
    },
    {
     "name": "stderr",
     "output_type": "stream",
     "text": [
      "\n"
     ]
    }
   ],
   "source": [
    "statements = [\"Kids are talking by the door\", \"Dogs are sitting by the door\"]\n",
    "\n",
    "for statement in statements: \n",
    "    Test = Valid[Valid[\"Statement\"] == statement]\n",
    "    testset = myDataset(Test, src, frame_count, emotion, transform)\n",
    "    testloader = DataLoader(testset, batch_size=2, shuffle=False)\n",
    "\n",
    "    lbl_list, out_list = [], []\n",
    "    for inputs, labels in tqdm(testloader):\n",
    "        inputs, labels = inputs.to(device), labels.to(device) #shifting data to gpu from cpu\n",
    "        output = model(inputs).argmax(dim=1, keepdim=True) #picking highest probability index\n",
    "        lbl_list.extend(labels)\n",
    "        out_list.extend(output)\n",
    "\n",
    "    pred = [reverse_emotion[x.item()] for x in out_list]\n",
    "    true = [reverse_emotion[x.item()] for x in lbl_list]\n",
    "\n",
    "    print(\"CONFUSION MATRIX for '{}'\\n\".format(statement))\n",
    "    print(metrics.confusion_matrix(true, pred))\n",
    "    print(\"\\n\\nCLASSIFICATION REPORT for '{}'\\n\".format(statement))\n",
    "    print(metrics.classification_report(true, pred, digits=3));\n",
    "    print(\"\\n\\n\")"
   ]
  }
 ],
 "metadata": {
  "kernelspec": {
   "display_name": "Python 3",
   "language": "python",
   "name": "python3"
  },
  "language_info": {
   "codemirror_mode": {
    "name": "ipython",
    "version": 3
   },
   "file_extension": ".py",
   "mimetype": "text/x-python",
   "name": "python",
   "nbconvert_exporter": "python",
   "pygments_lexer": "ipython3",
   "version": "3.7.12"
  },
  "papermill": {
   "default_parameters": {},
   "duration": 10941.937838,
   "end_time": "2022-05-01T17:58:50.963379",
   "environment_variables": {},
   "exception": null,
   "input_path": "__notebook__.ipynb",
   "output_path": "__notebook__.ipynb",
   "parameters": {},
   "start_time": "2022-05-01T14:56:29.025541",
   "version": "2.3.4"
  },
  "widgets": {
   "application/vnd.jupyter.widget-state+json": {
    "state": {
     "1fa752acb2b34cada2d2d4cfa5b83fda": {
      "model_module": "@jupyter-widgets/controls",
      "model_module_version": "1.5.0",
      "model_name": "HBoxModel",
      "state": {
       "_dom_classes": [],
       "_model_module": "@jupyter-widgets/controls",
       "_model_module_version": "1.5.0",
       "_model_name": "HBoxModel",
       "_view_count": null,
       "_view_module": "@jupyter-widgets/controls",
       "_view_module_version": "1.5.0",
       "_view_name": "HBoxView",
       "box_style": "",
       "children": [
        "IPY_MODEL_4f6c4e9b0c5b407192f696514feca87e",
        "IPY_MODEL_45a1fd41d86342d08331c096e5fa0cd0",
        "IPY_MODEL_80f3a2f99e864ca3b5501aff2b021ed2"
       ],
       "layout": "IPY_MODEL_afcc02ca11a34e908f943943e4c16ba2"
      }
     },
     "45a1fd41d86342d08331c096e5fa0cd0": {
      "model_module": "@jupyter-widgets/controls",
      "model_module_version": "1.5.0",
      "model_name": "FloatProgressModel",
      "state": {
       "_dom_classes": [],
       "_model_module": "@jupyter-widgets/controls",
       "_model_module_version": "1.5.0",
       "_model_name": "FloatProgressModel",
       "_view_count": null,
       "_view_module": "@jupyter-widgets/controls",
       "_view_module_version": "1.5.0",
       "_view_name": "ProgressView",
       "bar_style": "success",
       "description": "",
       "description_tooltip": null,
       "layout": "IPY_MODEL_e2e1b6d36adb424fb0fd9686f0d10301",
       "max": 46830571,
       "min": 0,
       "orientation": "horizontal",
       "style": "IPY_MODEL_a92f2b8f69374b55ae719e74eb9267a3",
       "value": 46830571
      }
     },
     "4f6c4e9b0c5b407192f696514feca87e": {
      "model_module": "@jupyter-widgets/controls",
      "model_module_version": "1.5.0",
      "model_name": "HTMLModel",
      "state": {
       "_dom_classes": [],
       "_model_module": "@jupyter-widgets/controls",
       "_model_module_version": "1.5.0",
       "_model_name": "HTMLModel",
       "_view_count": null,
       "_view_module": "@jupyter-widgets/controls",
       "_view_module_version": "1.5.0",
       "_view_name": "HTMLView",
       "description": "",
       "description_tooltip": null,
       "layout": "IPY_MODEL_a1919bb7b3814b29a1eaa52b383cb192",
       "placeholder": "​",
       "style": "IPY_MODEL_868369c54bc84b9e94b98004780b99b9",
       "value": "100%"
      }
     },
     "5cdc42668e9a4445b6ba08f4f5726298": {
      "model_module": "@jupyter-widgets/base",
      "model_module_version": "1.2.0",
      "model_name": "LayoutModel",
      "state": {
       "_model_module": "@jupyter-widgets/base",
       "_model_module_version": "1.2.0",
       "_model_name": "LayoutModel",
       "_view_count": null,
       "_view_module": "@jupyter-widgets/base",
       "_view_module_version": "1.2.0",
       "_view_name": "LayoutView",
       "align_content": null,
       "align_items": null,
       "align_self": null,
       "border": null,
       "bottom": null,
       "display": null,
       "flex": null,
       "flex_flow": null,
       "grid_area": null,
       "grid_auto_columns": null,
       "grid_auto_flow": null,
       "grid_auto_rows": null,
       "grid_column": null,
       "grid_gap": null,
       "grid_row": null,
       "grid_template_areas": null,
       "grid_template_columns": null,
       "grid_template_rows": null,
       "height": null,
       "justify_content": null,
       "justify_items": null,
       "left": null,
       "margin": null,
       "max_height": null,
       "max_width": null,
       "min_height": null,
       "min_width": null,
       "object_fit": null,
       "object_position": null,
       "order": null,
       "overflow": null,
       "overflow_x": null,
       "overflow_y": null,
       "padding": null,
       "right": null,
       "top": null,
       "visibility": null,
       "width": null
      }
     },
     "80f3a2f99e864ca3b5501aff2b021ed2": {
      "model_module": "@jupyter-widgets/controls",
      "model_module_version": "1.5.0",
      "model_name": "HTMLModel",
      "state": {
       "_dom_classes": [],
       "_model_module": "@jupyter-widgets/controls",
       "_model_module_version": "1.5.0",
       "_model_name": "HTMLModel",
       "_view_count": null,
       "_view_module": "@jupyter-widgets/controls",
       "_view_module_version": "1.5.0",
       "_view_name": "HTMLView",
       "description": "",
       "description_tooltip": null,
       "layout": "IPY_MODEL_5cdc42668e9a4445b6ba08f4f5726298",
       "placeholder": "​",
       "style": "IPY_MODEL_9809d2968b0749cea65a0d61caa2067f",
       "value": " 44.7M/44.7M [00:02&lt;00:00, 20.5MB/s]"
      }
     },
     "868369c54bc84b9e94b98004780b99b9": {
      "model_module": "@jupyter-widgets/controls",
      "model_module_version": "1.5.0",
      "model_name": "DescriptionStyleModel",
      "state": {
       "_model_module": "@jupyter-widgets/controls",
       "_model_module_version": "1.5.0",
       "_model_name": "DescriptionStyleModel",
       "_view_count": null,
       "_view_module": "@jupyter-widgets/base",
       "_view_module_version": "1.2.0",
       "_view_name": "StyleView",
       "description_width": ""
      }
     },
     "9809d2968b0749cea65a0d61caa2067f": {
      "model_module": "@jupyter-widgets/controls",
      "model_module_version": "1.5.0",
      "model_name": "DescriptionStyleModel",
      "state": {
       "_model_module": "@jupyter-widgets/controls",
       "_model_module_version": "1.5.0",
       "_model_name": "DescriptionStyleModel",
       "_view_count": null,
       "_view_module": "@jupyter-widgets/base",
       "_view_module_version": "1.2.0",
       "_view_name": "StyleView",
       "description_width": ""
      }
     },
     "a1919bb7b3814b29a1eaa52b383cb192": {
      "model_module": "@jupyter-widgets/base",
      "model_module_version": "1.2.0",
      "model_name": "LayoutModel",
      "state": {
       "_model_module": "@jupyter-widgets/base",
       "_model_module_version": "1.2.0",
       "_model_name": "LayoutModel",
       "_view_count": null,
       "_view_module": "@jupyter-widgets/base",
       "_view_module_version": "1.2.0",
       "_view_name": "LayoutView",
       "align_content": null,
       "align_items": null,
       "align_self": null,
       "border": null,
       "bottom": null,
       "display": null,
       "flex": null,
       "flex_flow": null,
       "grid_area": null,
       "grid_auto_columns": null,
       "grid_auto_flow": null,
       "grid_auto_rows": null,
       "grid_column": null,
       "grid_gap": null,
       "grid_row": null,
       "grid_template_areas": null,
       "grid_template_columns": null,
       "grid_template_rows": null,
       "height": null,
       "justify_content": null,
       "justify_items": null,
       "left": null,
       "margin": null,
       "max_height": null,
       "max_width": null,
       "min_height": null,
       "min_width": null,
       "object_fit": null,
       "object_position": null,
       "order": null,
       "overflow": null,
       "overflow_x": null,
       "overflow_y": null,
       "padding": null,
       "right": null,
       "top": null,
       "visibility": null,
       "width": null
      }
     },
     "a92f2b8f69374b55ae719e74eb9267a3": {
      "model_module": "@jupyter-widgets/controls",
      "model_module_version": "1.5.0",
      "model_name": "ProgressStyleModel",
      "state": {
       "_model_module": "@jupyter-widgets/controls",
       "_model_module_version": "1.5.0",
       "_model_name": "ProgressStyleModel",
       "_view_count": null,
       "_view_module": "@jupyter-widgets/base",
       "_view_module_version": "1.2.0",
       "_view_name": "StyleView",
       "bar_color": null,
       "description_width": ""
      }
     },
     "afcc02ca11a34e908f943943e4c16ba2": {
      "model_module": "@jupyter-widgets/base",
      "model_module_version": "1.2.0",
      "model_name": "LayoutModel",
      "state": {
       "_model_module": "@jupyter-widgets/base",
       "_model_module_version": "1.2.0",
       "_model_name": "LayoutModel",
       "_view_count": null,
       "_view_module": "@jupyter-widgets/base",
       "_view_module_version": "1.2.0",
       "_view_name": "LayoutView",
       "align_content": null,
       "align_items": null,
       "align_self": null,
       "border": null,
       "bottom": null,
       "display": null,
       "flex": null,
       "flex_flow": null,
       "grid_area": null,
       "grid_auto_columns": null,
       "grid_auto_flow": null,
       "grid_auto_rows": null,
       "grid_column": null,
       "grid_gap": null,
       "grid_row": null,
       "grid_template_areas": null,
       "grid_template_columns": null,
       "grid_template_rows": null,
       "height": null,
       "justify_content": null,
       "justify_items": null,
       "left": null,
       "margin": null,
       "max_height": null,
       "max_width": null,
       "min_height": null,
       "min_width": null,
       "object_fit": null,
       "object_position": null,
       "order": null,
       "overflow": null,
       "overflow_x": null,
       "overflow_y": null,
       "padding": null,
       "right": null,
       "top": null,
       "visibility": null,
       "width": null
      }
     },
     "e2e1b6d36adb424fb0fd9686f0d10301": {
      "model_module": "@jupyter-widgets/base",
      "model_module_version": "1.2.0",
      "model_name": "LayoutModel",
      "state": {
       "_model_module": "@jupyter-widgets/base",
       "_model_module_version": "1.2.0",
       "_model_name": "LayoutModel",
       "_view_count": null,
       "_view_module": "@jupyter-widgets/base",
       "_view_module_version": "1.2.0",
       "_view_name": "LayoutView",
       "align_content": null,
       "align_items": null,
       "align_self": null,
       "border": null,
       "bottom": null,
       "display": null,
       "flex": null,
       "flex_flow": null,
       "grid_area": null,
       "grid_auto_columns": null,
       "grid_auto_flow": null,
       "grid_auto_rows": null,
       "grid_column": null,
       "grid_gap": null,
       "grid_row": null,
       "grid_template_areas": null,
       "grid_template_columns": null,
       "grid_template_rows": null,
       "height": null,
       "justify_content": null,
       "justify_items": null,
       "left": null,
       "margin": null,
       "max_height": null,
       "max_width": null,
       "min_height": null,
       "min_width": null,
       "object_fit": null,
       "object_position": null,
       "order": null,
       "overflow": null,
       "overflow_x": null,
       "overflow_y": null,
       "padding": null,
       "right": null,
       "top": null,
       "visibility": null,
       "width": null
      }
     }
    },
    "version_major": 2,
    "version_minor": 0
   }
  }
 },
 "nbformat": 4,
 "nbformat_minor": 5
}
