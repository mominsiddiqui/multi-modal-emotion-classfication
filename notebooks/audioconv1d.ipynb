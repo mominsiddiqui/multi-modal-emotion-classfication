{
 "cells": [
  {
   "cell_type": "code",
   "execution_count": 1,
   "id": "73f49023",
   "metadata": {
    "_cell_guid": "b1076dfc-b9ad-4769-8c92-a6c4dae69d19",
    "_uuid": "8f2839f25d086af736a60e9eeb907d3b93b6e0e5",
    "execution": {
     "iopub.execute_input": "2022-05-02T10:01:01.430772Z",
     "iopub.status.busy": "2022-05-02T10:01:01.430324Z",
     "iopub.status.idle": "2022-05-02T10:01:12.699970Z",
     "shell.execute_reply": "2022-05-02T10:01:12.699089Z"
    },
    "papermill": {
     "duration": 11.298389,
     "end_time": "2022-05-02T10:01:12.702338",
     "exception": false,
     "start_time": "2022-05-02T10:01:01.403949",
     "status": "completed"
    },
    "tags": []
   },
   "outputs": [
    {
     "name": "stdout",
     "output_type": "stream",
     "text": [
      "Collecting openpyxl\r\n",
      "  Downloading openpyxl-3.0.9-py2.py3-none-any.whl (242 kB)\r\n",
      "\u001b[2K     \u001b[90m━━━━━━━━━━━━━━━━━━━━━━━━━━━━━━━━━━━━━━━\u001b[0m \u001b[32m242.2/242.2 KB\u001b[0m \u001b[31m1.4 MB/s\u001b[0m eta \u001b[36m0:00:00\u001b[0m\r\n",
      "\u001b[?25hCollecting et-xmlfile\r\n",
      "  Downloading et_xmlfile-1.1.0-py3-none-any.whl (4.7 kB)\r\n",
      "Installing collected packages: et-xmlfile, openpyxl\r\n",
      "Successfully installed et-xmlfile-1.1.0 openpyxl-3.0.9\r\n",
      "\u001b[33mWARNING: Running pip as the 'root' user can result in broken permissions and conflicting behaviour with the system package manager. It is recommended to use a virtual environment instead: https://pip.pypa.io/warnings/venv\u001b[0m\u001b[33m\r\n",
      "\u001b[0m"
     ]
    }
   ],
   "source": [
    "!pip install openpyxl #for loading xlsx files using pandas"
   ]
  },
  {
   "cell_type": "markdown",
   "id": "c7ce39e2",
   "metadata": {},
   "source": [
    "## Importing Necessary Libraries"
   ]
  },
  {
   "cell_type": "code",
   "execution_count": 2,
   "id": "7d8956d6",
   "metadata": {
    "execution": {
     "iopub.execute_input": "2022-05-02T10:01:12.743171Z",
     "iopub.status.busy": "2022-05-02T10:01:12.742910Z",
     "iopub.status.idle": "2022-05-02T10:01:15.492751Z",
     "shell.execute_reply": "2022-05-02T10:01:15.491892Z"
    },
    "papermill": {
     "duration": 2.772536,
     "end_time": "2022-05-02T10:01:15.495040",
     "exception": false,
     "start_time": "2022-05-02T10:01:12.722504",
     "status": "completed"
    },
    "tags": []
   },
   "outputs": [],
   "source": [
    "import copy\n",
    "import pandas as pd\n",
    "import matplotlib.pyplot as plt\n",
    "import torch\n",
    "from torch import optim\n",
    "from torch import nn\n",
    "from torch.optim.lr_scheduler import ReduceLROnPlateau\n",
    "import torch.nn.functional as F\n",
    "from torch.utils.data import Dataset, DataLoader\n",
    "import torchaudio\n",
    "from sklearn import metrics\n",
    "from tqdm import tqdm\n",
    "import warnings\n",
    "warnings.filterwarnings('ignore')\n",
    "\n",
    "src = \"..\"\n",
    "device = \"cuda:0\"\n"
   ]
  },
  {
   "cell_type": "markdown",
   "id": "0bab582d",
   "metadata": {},
   "source": [
    "#### Loading generated dataframe for Train and Valid set"
   ]
  },
  {
   "cell_type": "code",
   "execution_count": 3,
   "id": "3091e724",
   "metadata": {
    "execution": {
     "iopub.execute_input": "2022-05-02T10:01:15.535309Z",
     "iopub.status.busy": "2022-05-02T10:01:15.534613Z",
     "iopub.status.idle": "2022-05-02T10:01:16.282165Z",
     "shell.execute_reply": "2022-05-02T10:01:16.281409Z"
    },
    "papermill": {
     "duration": 0.770442,
     "end_time": "2022-05-02T10:01:16.284657",
     "exception": false,
     "start_time": "2022-05-02T10:01:15.514215",
     "status": "completed"
    },
    "tags": []
   },
   "outputs": [],
   "source": [
    "Train = pd.read_excel(\"{}/Train.xlsx\".format(src))\n",
    "Valid = pd.read_excel(\"{}/Valid.xlsx\".format(src))"
   ]
  },
  {
   "cell_type": "code",
   "execution_count": 4,
   "id": "9442b295",
   "metadata": {
    "execution": {
     "iopub.execute_input": "2022-05-02T10:01:16.324464Z",
     "iopub.status.busy": "2022-05-02T10:01:16.324193Z",
     "iopub.status.idle": "2022-05-02T10:01:16.342896Z",
     "shell.execute_reply": "2022-05-02T10:01:16.342062Z"
    },
    "papermill": {
     "duration": 0.04141,
     "end_time": "2022-05-02T10:01:16.345428",
     "exception": false,
     "start_time": "2022-05-02T10:01:16.304018",
     "status": "completed"
    },
    "tags": []
   },
   "outputs": [
    {
     "data": {
      "text/html": [
       "<div>\n",
       "<style scoped>\n",
       "    .dataframe tbody tr th:only-of-type {\n",
       "        vertical-align: middle;\n",
       "    }\n",
       "\n",
       "    .dataframe tbody tr th {\n",
       "        vertical-align: top;\n",
       "    }\n",
       "\n",
       "    .dataframe thead th {\n",
       "        text-align: right;\n",
       "    }\n",
       "</style>\n",
       "<table border=\"1\" class=\"dataframe\">\n",
       "  <thead>\n",
       "    <tr style=\"text-align: right;\">\n",
       "      <th></th>\n",
       "      <th>ID</th>\n",
       "      <th>Path</th>\n",
       "      <th>Modality</th>\n",
       "      <th>Vocal Channel</th>\n",
       "      <th>Emotion</th>\n",
       "      <th>Emotional intensity</th>\n",
       "      <th>Statement</th>\n",
       "      <th>Repetition</th>\n",
       "      <th>Actor</th>\n",
       "    </tr>\n",
       "  </thead>\n",
       "  <tbody>\n",
       "    <tr>\n",
       "      <th>0</th>\n",
       "      <td>01-01-01-01-01-01-01</td>\n",
       "      <td>audio-video/Actor_01/01-01-01-01-01-01-01.mp4</td>\n",
       "      <td>full-AV</td>\n",
       "      <td>speech</td>\n",
       "      <td>neutral</td>\n",
       "      <td>normal</td>\n",
       "      <td>Kids are talking by the door</td>\n",
       "      <td>1st repetition</td>\n",
       "      <td>1</td>\n",
       "    </tr>\n",
       "    <tr>\n",
       "      <th>1</th>\n",
       "      <td>01-01-01-01-01-02-01</td>\n",
       "      <td>audio-video/Actor_01/01-01-01-01-01-02-01.mp4</td>\n",
       "      <td>full-AV</td>\n",
       "      <td>speech</td>\n",
       "      <td>neutral</td>\n",
       "      <td>normal</td>\n",
       "      <td>Kids are talking by the door</td>\n",
       "      <td>2nd repetition</td>\n",
       "      <td>1</td>\n",
       "    </tr>\n",
       "    <tr>\n",
       "      <th>2</th>\n",
       "      <td>01-01-01-01-02-01-01</td>\n",
       "      <td>audio-video/Actor_01/01-01-01-01-02-01-01.mp4</td>\n",
       "      <td>full-AV</td>\n",
       "      <td>speech</td>\n",
       "      <td>neutral</td>\n",
       "      <td>normal</td>\n",
       "      <td>Dogs are sitting by the door</td>\n",
       "      <td>1st repetition</td>\n",
       "      <td>1</td>\n",
       "    </tr>\n",
       "    <tr>\n",
       "      <th>3</th>\n",
       "      <td>01-01-01-01-02-02-01</td>\n",
       "      <td>audio-video/Actor_01/01-01-01-01-02-02-01.mp4</td>\n",
       "      <td>full-AV</td>\n",
       "      <td>speech</td>\n",
       "      <td>neutral</td>\n",
       "      <td>normal</td>\n",
       "      <td>Dogs are sitting by the door</td>\n",
       "      <td>2nd repetition</td>\n",
       "      <td>1</td>\n",
       "    </tr>\n",
       "    <tr>\n",
       "      <th>4</th>\n",
       "      <td>01-01-02-01-01-01-01</td>\n",
       "      <td>audio-video/Actor_01/01-01-02-01-01-01-01.mp4</td>\n",
       "      <td>full-AV</td>\n",
       "      <td>speech</td>\n",
       "      <td>calm</td>\n",
       "      <td>normal</td>\n",
       "      <td>Kids are talking by the door</td>\n",
       "      <td>1st repetition</td>\n",
       "      <td>1</td>\n",
       "    </tr>\n",
       "  </tbody>\n",
       "</table>\n",
       "</div>"
      ],
      "text/plain": [
       "                     ID                                           Path  \\\n",
       "0  01-01-01-01-01-01-01  audio-video/Actor_01/01-01-01-01-01-01-01.mp4   \n",
       "1  01-01-01-01-01-02-01  audio-video/Actor_01/01-01-01-01-01-02-01.mp4   \n",
       "2  01-01-01-01-02-01-01  audio-video/Actor_01/01-01-01-01-02-01-01.mp4   \n",
       "3  01-01-01-01-02-02-01  audio-video/Actor_01/01-01-01-01-02-02-01.mp4   \n",
       "4  01-01-02-01-01-01-01  audio-video/Actor_01/01-01-02-01-01-01-01.mp4   \n",
       "\n",
       "  Modality Vocal Channel  Emotion Emotional intensity  \\\n",
       "0  full-AV        speech  neutral              normal   \n",
       "1  full-AV        speech  neutral              normal   \n",
       "2  full-AV        speech  neutral              normal   \n",
       "3  full-AV        speech  neutral              normal   \n",
       "4  full-AV        speech     calm              normal   \n",
       "\n",
       "                      Statement      Repetition  Actor  \n",
       "0  Kids are talking by the door  1st repetition      1  \n",
       "1  Kids are talking by the door  2nd repetition      1  \n",
       "2  Dogs are sitting by the door  1st repetition      1  \n",
       "3  Dogs are sitting by the door  2nd repetition      1  \n",
       "4  Kids are talking by the door  1st repetition      1  "
      ]
     },
     "execution_count": 4,
     "metadata": {},
     "output_type": "execute_result"
    }
   ],
   "source": [
    "Train.head()"
   ]
  },
  {
   "cell_type": "code",
   "execution_count": 5,
   "id": "342d3ec1",
   "metadata": {
    "execution": {
     "iopub.execute_input": "2022-05-02T10:01:16.385911Z",
     "iopub.status.busy": "2022-05-02T10:01:16.385661Z",
     "iopub.status.idle": "2022-05-02T10:01:16.390307Z",
     "shell.execute_reply": "2022-05-02T10:01:16.389643Z"
    },
    "papermill": {
     "duration": 0.026815,
     "end_time": "2022-05-02T10:01:16.391954",
     "exception": false,
     "start_time": "2022-05-02T10:01:16.365139",
     "status": "completed"
    },
    "tags": []
   },
   "outputs": [],
   "source": [
    "emotion = {\n",
    "    \"neutral\": 0, \n",
    "    \"calm\": 1, \n",
    "    \"happy\": 2, \n",
    "    \"sad\": 3, \n",
    "    \"angry\": 4, \n",
    "    \"fearful\": 5, \n",
    "    \"disgust\": 6, \n",
    "    \"surprised\": 7\n",
    "}\n",
    "\n",
    "reverse_emotion = {y: x for x, y in emotion.items()}"
   ]
  },
  {
   "cell_type": "markdown",
   "id": "a8e5bfcd",
   "metadata": {},
   "source": [
    "## Initializing custom Dataset class"
   ]
  },
  {
   "cell_type": "markdown",
   "id": "da0a2c52",
   "metadata": {},
   "source": [
    "#### We load audio files of wav format and use the resampling transform"
   ]
  },
  {
   "cell_type": "code",
   "execution_count": 6,
   "id": "fd344438",
   "metadata": {
    "execution": {
     "iopub.execute_input": "2022-05-02T10:01:16.431621Z",
     "iopub.status.busy": "2022-05-02T10:01:16.431397Z",
     "iopub.status.idle": "2022-05-02T10:01:16.438001Z",
     "shell.execute_reply": "2022-05-02T10:01:16.437259Z"
    },
    "papermill": {
     "duration": 0.028426,
     "end_time": "2022-05-02T10:01:16.439631",
     "exception": false,
     "start_time": "2022-05-02T10:01:16.411205",
     "status": "completed"
    },
    "tags": []
   },
   "outputs": [],
   "source": [
    "class myDataset(Dataset):\n",
    "    def __init__(self, df, path, emotion, transform):\n",
    "        self.df = df\n",
    "        self.path = path\n",
    "        self.emotion = emotion\n",
    "        self.transform = transform\n",
    "    \n",
    "    def __len__(self):\n",
    "        return self.df.shape[0]\n",
    "    \n",
    "    def __getitem__(self, idx):\n",
    "        file = \"{}/{}.wav\".format(self.path, self.df[\"ID\"].iloc[idx])\n",
    "        waveform, sample_rate = torchaudio.load(file, normalize=True)        \n",
    "        transformed = self.transform(waveform)\n",
    "        label = torch.tensor(self.emotion[self.df[\"Emotion\"].iloc[idx]])\n",
    "        \n",
    "        return transformed, label"
   ]
  },
  {
   "cell_type": "markdown",
   "id": "d0ce7f4a",
   "metadata": {},
   "source": [
    "#### Since the audios vary in duration, the tensors they will generate will also not be equal in length. Therefore we use a collate function to pad the tensors into become of equal size"
   ]
  },
  {
   "cell_type": "code",
   "execution_count": 7,
   "id": "977f0bf4",
   "metadata": {
    "execution": {
     "iopub.execute_input": "2022-05-02T10:01:16.481697Z",
     "iopub.status.busy": "2022-05-02T10:01:16.481468Z",
     "iopub.status.idle": "2022-05-02T10:01:16.487196Z",
     "shell.execute_reply": "2022-05-02T10:01:16.486535Z"
    },
    "papermill": {
     "duration": 0.029773,
     "end_time": "2022-05-02T10:01:16.488987",
     "exception": false,
     "start_time": "2022-05-02T10:01:16.459214",
     "status": "completed"
    },
    "tags": []
   },
   "outputs": [],
   "source": [
    "def pad_sequence(batch):\n",
    "    # Make all tensor in a batch the same length by padding with zeros\n",
    "    batch = [item.t() for item in batch]\n",
    "    batch = torch.nn.utils.rnn.pad_sequence(batch, batch_first=True, padding_value=0.)\n",
    "    return batch.permute(0, 2, 1)\n",
    "\n",
    "\n",
    "def collate_fn(batch):\n",
    "\n",
    "    # A data tuple has the form:\n",
    "    # waveform, sample_rate, label, speaker_id, utterance_number\n",
    "\n",
    "    tensors, targets = [], []\n",
    "\n",
    "    # Gather in lists, and encode labels as indices\n",
    "    for waveform, label in batch:\n",
    "        tensors += [waveform]\n",
    "        targets += [label]\n",
    "\n",
    "    # Group the list of tensors into a batched tensor\n",
    "    tensors = pad_sequence(tensors)\n",
    "    targets = torch.stack(targets)\n",
    "\n",
    "    return tensors, targets"
   ]
  },
  {
   "cell_type": "code",
   "execution_count": 8,
   "id": "0dfcb76c",
   "metadata": {
    "execution": {
     "iopub.execute_input": "2022-05-02T10:01:16.528421Z",
     "iopub.status.busy": "2022-05-02T10:01:16.528194Z",
     "iopub.status.idle": "2022-05-02T10:01:16.625147Z",
     "shell.execute_reply": "2022-05-02T10:01:16.624464Z"
    },
    "papermill": {
     "duration": 0.119074,
     "end_time": "2022-05-02T10:01:16.627118",
     "exception": false,
     "start_time": "2022-05-02T10:01:16.508044",
     "status": "completed"
    },
    "tags": []
   },
   "outputs": [],
   "source": [
    "transform = torchaudio.transforms.Resample(new_freq=8000)\n",
    "\n",
    "src = \"../audio-wav\"\n",
    "trainset = myDataset(Train, src, emotion, transform)\n",
    "validset = myDataset(Valid, src, emotion, transform)\n",
    "\n",
    "trainloader = DataLoader(trainset, batch_size=4, collate_fn=collate_fn, shuffle=True)\n",
    "validloader = DataLoader(validset, batch_size=2, collate_fn=collate_fn, shuffle=False)\n"
   ]
  },
  {
   "cell_type": "code",
   "execution_count": 9,
   "id": "d094a51a",
   "metadata": {
    "execution": {
     "iopub.execute_input": "2022-05-02T10:01:16.667207Z",
     "iopub.status.busy": "2022-05-02T10:01:16.666983Z",
     "iopub.status.idle": "2022-05-02T10:01:16.829327Z",
     "shell.execute_reply": "2022-05-02T10:01:16.828383Z"
    },
    "papermill": {
     "duration": 0.185157,
     "end_time": "2022-05-02T10:01:16.831780",
     "exception": false,
     "start_time": "2022-05-02T10:01:16.646623",
     "status": "completed"
    },
    "tags": []
   },
   "outputs": [
    {
     "name": "stdout",
     "output_type": "stream",
     "text": [
      "torch.Size([4, 2, 85554]) torch.Size([4])\n"
     ]
    }
   ],
   "source": [
    "image, label = next(iter(trainloader))\n",
    "print(image.shape, label.shape)\n"
   ]
  },
  {
   "cell_type": "markdown",
   "id": "46fb7d77",
   "metadata": {},
   "source": [
    "## Initializing custom Model class"
   ]
  },
  {
   "cell_type": "markdown",
   "id": "a723c5c6",
   "metadata": {},
   "source": [
    "#### We used a model with four 1D CNN layers for the tensors converted from audio waveform. It also have four maxpooling operations to downsample the tensor, along with batchnorm for faster learning. "
   ]
  },
  {
   "cell_type": "code",
   "execution_count": 10,
   "id": "f8a5f473",
   "metadata": {
    "execution": {
     "iopub.execute_input": "2022-05-02T10:01:16.873745Z",
     "iopub.status.busy": "2022-05-02T10:01:16.873502Z",
     "iopub.status.idle": "2022-05-02T10:01:16.883693Z",
     "shell.execute_reply": "2022-05-02T10:01:16.882995Z"
    },
    "papermill": {
     "duration": 0.032615,
     "end_time": "2022-05-02T10:01:16.885504",
     "exception": false,
     "start_time": "2022-05-02T10:01:16.852889",
     "status": "completed"
    },
    "tags": []
   },
   "outputs": [],
   "source": [
    "class CNN(nn.Module):\n",
    "    def __init__(self, n_input=2, num_classes=8, stride=16, n_channel=32):\n",
    "        super().__init__()\n",
    "        self.model = nn.Sequential(\n",
    "            nn.Conv1d(n_input, n_channel, kernel_size=80, stride=stride),\n",
    "            nn.BatchNorm1d(n_channel),\n",
    "            nn.ReLU(),\n",
    "            nn.MaxPool1d(4),\n",
    "            nn.Conv1d(n_channel, n_channel, kernel_size=3),\n",
    "            nn.BatchNorm1d(n_channel),\n",
    "            nn.ReLU(),\n",
    "            nn.MaxPool1d(4),\n",
    "            nn.Conv1d(n_channel, 2 * n_channel, kernel_size=3),\n",
    "            nn.BatchNorm1d(2 * n_channel),\n",
    "            nn.ReLU(),\n",
    "            nn.MaxPool1d(4),\n",
    "            nn.Conv1d(2 * n_channel, 2 * n_channel, kernel_size=3),\n",
    "            nn.BatchNorm1d(2 * n_channel),\n",
    "            nn.ReLU(),\n",
    "            nn.MaxPool1d(4)\n",
    "        )\n",
    "        self.fc = nn.Linear(2 * n_channel, num_classes)\n",
    "              \n",
    "    def forward(self, x):\n",
    "        out = self.model(x)\n",
    "        out = F.avg_pool1d(out, out.shape[-1])\n",
    "        out = out.permute(0, 2, 1)\n",
    "        out = self.fc(out).squeeze(1)\n",
    "        return out"
   ]
  },
  {
   "cell_type": "markdown",
   "id": "026ce78a",
   "metadata": {},
   "source": [
    "## Defining configuration for training"
   ]
  },
  {
   "cell_type": "code",
   "execution_count": 11,
   "id": "57b2a856",
   "metadata": {
    "execution": {
     "iopub.execute_input": "2022-05-02T10:01:16.930815Z",
     "iopub.status.busy": "2022-05-02T10:01:16.930114Z",
     "iopub.status.idle": "2022-05-02T10:01:16.937147Z",
     "shell.execute_reply": "2022-05-02T10:01:16.936494Z"
    },
    "papermill": {
     "duration": 0.033597,
     "end_time": "2022-05-02T10:01:16.938940",
     "exception": false,
     "start_time": "2022-05-02T10:01:16.905343",
     "status": "completed"
    },
    "tags": []
   },
   "outputs": [],
   "source": [
    "config = {  \n",
    "    \"epochs\": 20,\n",
    "    \"path2weights\": \"best.pt\",\n",
    "    \"num_classes\": len(emotion.keys()),\n",
    "    \"dropout\": 0.1,\n",
    "    \"pretrained\" : True,\n",
    "    \"trainloader\": trainloader,\n",
    "    \"validloader\": validloader,\n",
    "    \"sanity_check\": False,\n",
    "}"
   ]
  },
  {
   "cell_type": "markdown",
   "id": "26a44e7f",
   "metadata": {},
   "source": [
    "## Defining functions for training model"
   ]
  },
  {
   "cell_type": "code",
   "execution_count": 12,
   "id": "a7999138",
   "metadata": {
    "execution": {
     "iopub.execute_input": "2022-05-02T10:01:16.980357Z",
     "iopub.status.busy": "2022-05-02T10:01:16.979994Z",
     "iopub.status.idle": "2022-05-02T10:01:16.997193Z",
     "shell.execute_reply": "2022-05-02T10:01:16.996525Z"
    },
    "papermill": {
     "duration": 0.040193,
     "end_time": "2022-05-02T10:01:16.999171",
     "exception": false,
     "start_time": "2022-05-02T10:01:16.958978",
     "status": "completed"
    },
    "tags": []
   },
   "outputs": [],
   "source": [
    "def trainModel(model, criterion, optimizer, scheduler, config):\n",
    "    epochs=config[\"epochs\"]\n",
    "    trainloader=config[\"trainloader\"]\n",
    "    validloader=config[\"validloader\"]\n",
    "    sanity_check=config[\"sanity_check\"]\n",
    "    path2weights=config[\"path2weights\"]\n",
    "   \n",
    "    #for plotting    \n",
    "    loss_history={\n",
    "        \"train\": [],\n",
    "        \"val\": [],\n",
    "    }\n",
    "\n",
    "    #for plotting    \n",
    "    metric_history={\n",
    "        \"train\": [],\n",
    "        \"val\": [],\n",
    "    }\n",
    "    \n",
    "    best_model_wts = copy.deepcopy(model.state_dict())\n",
    "    best_loss=float('inf')\n",
    "    \n",
    "    for epoch in range(epochs):\n",
    "        current_lr=get_lr(optimizer)\n",
    "        print('Epoch {}/{}, current lr = {}'.format(epoch, epochs-1, current_lr))\n",
    "        model.train() #for training\n",
    "        train_loss, train_metric = oneEpoch(model, criterion, trainloader, sanity_check, optimizer) #one training epoch\n",
    "        loss_history[\"train\"].append(train_loss)\n",
    "        metric_history[\"train\"].append(train_metric)\n",
    "        model.eval() #for validation\n",
    "        with torch.no_grad():\n",
    "            val_loss, val_metric = oneEpoch(model, criterion, validloader, sanity_check) #one validation epoch\n",
    "        #saving weights from best model\n",
    "        if val_loss < best_loss:\n",
    "            best_loss = val_loss\n",
    "            best_model_wts = copy.deepcopy(model.state_dict())\n",
    "            torch.save(model.state_dict(), path2weights)\n",
    "            print(\"Copied best model weights!\")\n",
    "        \n",
    "        loss_history[\"val\"].append(val_loss)\n",
    "        metric_history[\"val\"].append(val_metric)\n",
    "        \n",
    "        #updating learning rate scheduler\n",
    "        scheduler.step(val_loss)\n",
    "        if current_lr != get_lr(optimizer):\n",
    "            print(\"Loading best model weights!\")\n",
    "            model.load_state_dict(best_model_wts)\n",
    "        \n",
    "\n",
    "        print(\"Train Loss: %.6f, Val Loss: %.6f, Val Acc: %.2f\" %(train_loss,val_loss,100*val_metric))\n",
    "        print(\"-\"*10) \n",
    "    #reloading best weights\n",
    "    model.load_state_dict(best_model_wts)\n",
    "        \n",
    "    return model, loss_history, metric_history\n",
    "\n",
    "\n",
    "# get learning rate \n",
    "def get_lr(optimizer):\n",
    "    for param_group in optimizer.param_groups:\n",
    "        return param_group['lr']\n",
    "\n",
    "#get metrics for a batch\n",
    "def metrics_batch(output, target):\n",
    "    pred = output.argmax(dim=1, keepdim=True) #picking highest probability index\n",
    "    corrects = pred.eq(target.view_as(pred)).sum().item()\n",
    "    return corrects\n",
    "\n",
    "#performing backward propagation\n",
    "def loss_batch(criterion, output, target, optimizer=None):\n",
    "    loss = criterion(output, target)\n",
    "    with torch.no_grad():\n",
    "        metric_b = metrics_batch(output,target)\n",
    "    if optimizer is not None:\n",
    "        optimizer.zero_grad()\n",
    "        loss.backward()\n",
    "        optimizer.step()\n",
    "    return loss.item(), metric_b\n",
    "    \n",
    "#iterating through all batches in a given epoch\n",
    "def oneEpoch(model, criterion, dataloader, sanity_check=False, optimizer=None):\n",
    "    running_loss, running_metric = 0.0, 0.0\n",
    "    len_data = len(dataloader.dataset)\n",
    "    for inputs, labels in dataloader:\n",
    "        inputs, labels = inputs.to(device), labels.to(device) #shifting data to gpu from cpu\n",
    "        output = model(inputs)\n",
    "        loss_b, metric_b = loss_batch(criterion, output, labels, optimizer)\n",
    "        running_loss += loss_b\n",
    "        \n",
    "        if metric_b is not None:\n",
    "            running_metric += metric_b\n",
    "        if sanity_check is True:\n",
    "            break\n",
    "    loss=running_loss/float(len_data)\n",
    "    metric=running_metric/float(len_data)\n",
    "    return loss, metric"
   ]
  },
  {
   "cell_type": "markdown",
   "id": "92682e59",
   "metadata": {},
   "source": [
    "## Starting training"
   ]
  },
  {
   "cell_type": "code",
   "execution_count": 13,
   "id": "4dedf58f",
   "metadata": {
    "execution": {
     "iopub.execute_input": "2022-05-02T10:01:17.039676Z",
     "iopub.status.busy": "2022-05-02T10:01:17.039414Z",
     "iopub.status.idle": "2022-05-02T10:04:42.474421Z",
     "shell.execute_reply": "2022-05-02T10:04:42.473418Z"
    },
    "papermill": {
     "duration": 205.458174,
     "end_time": "2022-05-02T10:04:42.476853",
     "exception": false,
     "start_time": "2022-05-02T10:01:17.018679",
     "status": "completed"
    },
    "tags": []
   },
   "outputs": [
    {
     "name": "stdout",
     "output_type": "stream",
     "text": [
      "Epoch 0/19, current lr = 0.0003\n",
      "Copied best model weights!\n",
      "Train Loss: 1.966954, Val Loss: 1.851442, Val Acc: 33.33\n",
      "----------\n",
      "Epoch 1/19, current lr = 0.0003\n",
      "Copied best model weights!\n",
      "Train Loss: 1.892406, Val Loss: 1.786822, Val Acc: 40.42\n",
      "----------\n",
      "Epoch 2/19, current lr = 0.0003\n",
      "Train Loss: 1.866511, Val Loss: 1.792220, Val Acc: 38.75\n",
      "----------\n",
      "Epoch 3/19, current lr = 0.0003\n",
      "Copied best model weights!\n",
      "Train Loss: 1.843683, Val Loss: 1.739889, Val Acc: 35.42\n",
      "----------\n",
      "Epoch 4/19, current lr = 0.0003\n",
      "Copied best model weights!\n",
      "Train Loss: 1.792034, Val Loss: 1.678897, Val Acc: 44.58\n",
      "----------\n",
      "Epoch 5/19, current lr = 0.0003\n",
      "Train Loss: 1.770233, Val Loss: 1.738702, Val Acc: 35.42\n",
      "----------\n",
      "Epoch 6/19, current lr = 0.0003\n",
      "Copied best model weights!\n",
      "Train Loss: 1.732822, Val Loss: 1.635834, Val Acc: 40.83\n",
      "----------\n",
      "Epoch 7/19, current lr = 0.0003\n",
      "Copied best model weights!\n",
      "Train Loss: 1.693418, Val Loss: 1.578847, Val Acc: 39.58\n",
      "----------\n",
      "Epoch 8/19, current lr = 0.0003\n",
      "Train Loss: 1.667642, Val Loss: 1.657984, Val Acc: 35.00\n",
      "----------\n",
      "Epoch 9/19, current lr = 0.0003\n",
      "Train Loss: 1.632028, Val Loss: 1.605635, Val Acc: 40.42\n",
      "----------\n",
      "Epoch 10/19, current lr = 0.0003\n",
      "Copied best model weights!\n",
      "Train Loss: 1.598376, Val Loss: 1.552490, Val Acc: 44.58\n",
      "----------\n",
      "Epoch 11/19, current lr = 0.0003\n",
      "Train Loss: 1.605538, Val Loss: 1.690401, Val Acc: 36.25\n",
      "----------\n",
      "Epoch 12/19, current lr = 0.0003\n",
      "Train Loss: 1.541197, Val Loss: 1.562651, Val Acc: 42.08\n",
      "----------\n",
      "Epoch 13/19, current lr = 0.0003\n",
      "Copied best model weights!\n",
      "Train Loss: 1.544838, Val Loss: 1.524021, Val Acc: 44.17\n",
      "----------\n",
      "Epoch 14/19, current lr = 0.0003\n",
      "Train Loss: 1.518526, Val Loss: 1.648041, Val Acc: 35.00\n",
      "----------\n",
      "Epoch 15/19, current lr = 0.0003\n",
      "Train Loss: 1.492953, Val Loss: 1.629064, Val Acc: 37.08\n",
      "----------\n",
      "Epoch 16/19, current lr = 0.0003\n",
      "Train Loss: 1.473298, Val Loss: 1.654244, Val Acc: 33.75\n",
      "----------\n",
      "Epoch 17/19, current lr = 0.0003\n",
      "Epoch    18: reducing learning rate of group 0 to 1.5000e-04.\n",
      "Loading best model weights!\n",
      "Train Loss: 1.459109, Val Loss: 1.569642, Val Acc: 35.83\n",
      "----------\n",
      "Epoch 18/19, current lr = 0.00015\n",
      "Train Loss: 1.479462, Val Loss: 1.535717, Val Acc: 43.33\n",
      "----------\n",
      "Epoch 19/19, current lr = 0.00015\n",
      "Train Loss: 1.464266, Val Loss: 1.545585, Val Acc: 38.75\n",
      "----------\n"
     ]
    }
   ],
   "source": [
    "model = CNN(num_classes=config[\"num_classes\"]) #instantiating model\n",
    "model.to(device) #shifting model to gpu from cpu\n",
    "criterion = nn.CrossEntropyLoss(reduction=\"sum\") #loss function\n",
    "optimizer = optim.Adam(model.parameters(), lr=3e-4) #optimizer\n",
    "scheduler = ReduceLROnPlateau(optimizer, mode='min',factor=0.5, patience=3,verbose=1) #learning rate scheduler\n",
    "model, loss_history, metric_history = trainModel(model, criterion, optimizer, scheduler, config)"
   ]
  },
  {
   "cell_type": "markdown",
   "id": "2c601959",
   "metadata": {},
   "source": [
    "## Plotting Graphs"
   ]
  },
  {
   "cell_type": "code",
   "execution_count": 14,
   "id": "471b93b4",
   "metadata": {
    "execution": {
     "iopub.execute_input": "2022-05-02T10:04:42.531341Z",
     "iopub.status.busy": "2022-05-02T10:04:42.531113Z",
     "iopub.status.idle": "2022-05-02T10:04:42.537965Z",
     "shell.execute_reply": "2022-05-02T10:04:42.537043Z"
    },
    "papermill": {
     "duration": 0.0359,
     "end_time": "2022-05-02T10:04:42.539986",
     "exception": false,
     "start_time": "2022-05-02T10:04:42.504086",
     "status": "completed"
    },
    "tags": []
   },
   "outputs": [],
   "source": [
    "def plot_loss(loss_hist, metric_hist):\n",
    "\n",
    "    epochs= len(loss_hist[\"train\"])\n",
    "\n",
    "    plt.title(\"Train-Val Loss\")\n",
    "    plt.plot(range(1, epochs+1),loss_hist[\"train\"],label=\"train\")\n",
    "    plt.plot(range(1, epochs+1),loss_hist[\"val\"],label=\"val\")\n",
    "    plt.ylabel(\"Loss\")\n",
    "    plt.xlabel(\"Training Epochs\")\n",
    "    plt.legend()\n",
    "    plt.show()\n",
    "\n",
    "    plt.title(\"Train-Val Accuracy\")\n",
    "    plt.plot(range(1, epochs+1), metric_hist[\"train\"],label=\"train\")\n",
    "    plt.plot(range(1, epochs+1), metric_hist[\"val\"],label=\"val\")\n",
    "    plt.ylabel(\"Accuracy\")\n",
    "    plt.xlabel(\"Training Epochs\")\n",
    "    plt.legend()\n",
    "    plt.show()"
   ]
  },
  {
   "cell_type": "code",
   "execution_count": 15,
   "id": "61d763e0",
   "metadata": {
    "execution": {
     "iopub.execute_input": "2022-05-02T10:04:42.594061Z",
     "iopub.status.busy": "2022-05-02T10:04:42.593817Z",
     "iopub.status.idle": "2022-05-02T10:04:43.053691Z",
     "shell.execute_reply": "2022-05-02T10:04:43.052916Z"
    },
    "papermill": {
     "duration": 0.490359,
     "end_time": "2022-05-02T10:04:43.056290",
     "exception": false,
     "start_time": "2022-05-02T10:04:42.565931",
     "status": "completed"
    },
    "tags": []
   },
   "outputs": [
    {
     "data": {
      "image/png": "[encoded data removed]",
      "text/plain": [
       "<Figure size 432x288 with 1 Axes>"
      ]
     },
     "metadata": {
      "needs_background": "light"
     },
     "output_type": "display_data"
    },
    {
     "data": {
      "image/png": "[encoded data removed]",
      "text/plain": [
       "<Figure size 432x288 with 1 Axes>"
      ]
     },
     "metadata": {
      "needs_background": "light"
     },
     "output_type": "display_data"
    }
   ],
   "source": [
    "plot_loss(loss_history, metric_history)"
   ]
  },
  {
   "cell_type": "markdown",
   "id": "51014814",
   "metadata": {},
   "source": [
    "#### Confusion Matrix and Classification Report (Precision, Recall, F1-Score) for Validation Set"
   ]
  },
  {
   "cell_type": "code",
   "execution_count": 16,
   "id": "d3f408e9",
   "metadata": {
    "execution": {
     "iopub.execute_input": "2022-05-02T10:04:43.150755Z",
     "iopub.status.busy": "2022-05-02T10:04:43.150498Z",
     "iopub.status.idle": "2022-05-02T10:04:44.627801Z",
     "shell.execute_reply": "2022-05-02T10:04:44.627002Z"
    },
    "papermill": {
     "duration": 1.527943,
     "end_time": "2022-05-02T10:04:44.631652",
     "exception": false,
     "start_time": "2022-05-02T10:04:43.103709",
     "status": "completed"
    },
    "tags": []
   },
   "outputs": [
    {
     "name": "stderr",
     "output_type": "stream",
     "text": [
      "100%|██████████| 120/120 [00:01<00:00, 83.33it/s]"
     ]
    },
    {
     "name": "stdout",
     "output_type": "stream",
     "text": [
      "CONFUSION MATRIX\n",
      "\n",
      "[[16  0  0  7  3  0  3  3]\n",
      " [ 0 28  1  0  0  0  3  0]\n",
      " [ 7  1 12  1  0  0  9  2]\n",
      " [ 2  0  0 15  0  0  6  9]\n",
      " [ 2  0  0  9  2  0  9 10]\n",
      " [ 0  4  1  2  0  0  6  3]\n",
      " [ 0 11  2  4  0  0 14  1]\n",
      " [ 1  0  0  9  0  0  3 19]]\n",
      "\n",
      "\n",
      "CLASSIFICATION REPORT\n",
      "\n",
      "              precision    recall  f1-score   support\n",
      "\n",
      "       angry      0.571     0.500     0.533        32\n",
      "        calm      0.636     0.875     0.737        32\n",
      "     disgust      0.750     0.375     0.500        32\n",
      "     fearful      0.319     0.469     0.380        32\n",
      "       happy      0.400     0.062     0.108        32\n",
      "     neutral      0.000     0.000     0.000        16\n",
      "         sad      0.264     0.438     0.329        32\n",
      "   surprised      0.404     0.594     0.481        32\n",
      "\n",
      "    accuracy                          0.442       240\n",
      "   macro avg      0.418     0.414     0.384       240\n",
      "weighted avg      0.446     0.442     0.409       240\n",
      "\n"
     ]
    },
    {
     "name": "stderr",
     "output_type": "stream",
     "text": [
      "\n"
     ]
    }
   ],
   "source": [
    "src = \"../input/emotionaudio/audio-wav/audio-wav\"\n",
    "testset = myDataset(Valid, src, emotion, transform)\n",
    "testloader = DataLoader(testset, batch_size=2, collate_fn=collate_fn, shuffle=False)\n",
    "\n",
    "lbl_list, out_list = [], []\n",
    "for inputs, labels in tqdm(testloader):\n",
    "    inputs, labels = inputs.to(device), labels.to(device)\n",
    "    output = model(inputs).argmax(dim=1, keepdim=True)\n",
    "    lbl_list.extend(labels)\n",
    "    out_list.extend(output)\n",
    "\n",
    "pred = [reverse_emotion[x.item()] for x in out_list]\n",
    "true = [reverse_emotion[x.item()] for x in lbl_list]\n",
    "\n",
    "print(\"CONFUSION MATRIX\\n\")\n",
    "print(metrics.confusion_matrix(true, pred))\n",
    "print(\"\\n\\nCLASSIFICATION REPORT\\n\")\n",
    "print(metrics.classification_report(true, pred, digits=3));"
   ]
  },
  {
   "cell_type": "markdown",
   "id": "aeee743a",
   "metadata": {},
   "source": [
    "#### Confusion Matrix and Classification Report (Precision, Recall, F1-Score) for Validation Set with respect to each sentence"
   ]
  },
  {
   "cell_type": "code",
   "execution_count": 17,
   "id": "e9735fad",
   "metadata": {
    "execution": {
     "iopub.execute_input": "2022-05-02T10:04:44.701703Z",
     "iopub.status.busy": "2022-05-02T10:04:44.701032Z",
     "iopub.status.idle": "2022-05-02T10:04:46.040295Z",
     "shell.execute_reply": "2022-05-02T10:04:46.036737Z"
    },
    "papermill": {
     "duration": 1.376386,
     "end_time": "2022-05-02T10:04:46.042650",
     "exception": false,
     "start_time": "2022-05-02T10:04:44.666264",
     "status": "completed"
    },
    "tags": []
   },
   "outputs": [
    {
     "name": "stderr",
     "output_type": "stream",
     "text": [
      "100%|██████████| 60/60 [00:00<00:00, 91.78it/s]\n"
     ]
    },
    {
     "name": "stdout",
     "output_type": "stream",
     "text": [
      "CONFUSION MATRIX for 'Kids are talking by the door'\n",
      "\n",
      "[[ 8  0  0  4  2  0  2  0]\n",
      " [ 0 14  0  0  0  0  2  0]\n",
      " [ 5  0  5  0  0  0  6  0]\n",
      " [ 0  0  0  8  0  0  3  5]\n",
      " [ 1  0  0  4  2  0  5  4]\n",
      " [ 0  2  0  1  0  0  4  1]\n",
      " [ 0  7  0  3  0  0  6  0]\n",
      " [ 0  0  0  4  0  0  3  9]]\n",
      "\n",
      "\n",
      "CLASSIFICATION REPORT for 'Kids are talking by the door'\n",
      "\n",
      "              precision    recall  f1-score   support\n",
      "\n",
      "       angry      0.571     0.500     0.533        16\n",
      "        calm      0.609     0.875     0.718        16\n",
      "     disgust      1.000     0.312     0.476        16\n",
      "     fearful      0.333     0.500     0.400        16\n",
      "       happy      0.500     0.125     0.200        16\n",
      "     neutral      0.000     0.000     0.000         8\n",
      "         sad      0.194     0.375     0.255        16\n",
      "   surprised      0.474     0.562     0.514        16\n",
      "\n",
      "    accuracy                          0.433       120\n",
      "   macro avg      0.460     0.406     0.387       120\n",
      "weighted avg      0.491     0.433     0.413       120\n",
      "\n",
      "\n",
      "\n",
      "\n"
     ]
    },
    {
     "name": "stderr",
     "output_type": "stream",
     "text": [
      "100%|██████████| 60/60 [00:00<00:00, 94.01it/s]"
     ]
    },
    {
     "name": "stdout",
     "output_type": "stream",
     "text": [
      "CONFUSION MATRIX for 'Dogs are sitting by the door'\n",
      "\n",
      "[[ 8  0  0  3  1  0  1  3]\n",
      " [ 0 14  1  0  0  0  1  0]\n",
      " [ 2  1  7  1  0  0  3  2]\n",
      " [ 2  0  0  7  0  0  3  4]\n",
      " [ 1  0  0  5  0  0  4  6]\n",
      " [ 0  2  1  1  0  0  2  2]\n",
      " [ 0  4  2  1  0  0  8  1]\n",
      " [ 1  0  0  5  0  0  0 10]]\n",
      "\n",
      "\n",
      "CLASSIFICATION REPORT for 'Dogs are sitting by the door'\n",
      "\n",
      "              precision    recall  f1-score   support\n",
      "\n",
      "       angry      0.571     0.500     0.533        16\n",
      "        calm      0.667     0.875     0.757        16\n",
      "     disgust      0.636     0.438     0.519        16\n",
      "     fearful      0.304     0.438     0.359        16\n",
      "       happy      0.000     0.000     0.000        16\n",
      "     neutral      0.000     0.000     0.000         8\n",
      "         sad      0.364     0.500     0.421        16\n",
      "   surprised      0.357     0.625     0.455        16\n",
      "\n",
      "    accuracy                          0.450       120\n",
      "   macro avg      0.362     0.422     0.380       120\n",
      "weighted avg      0.387     0.450     0.406       120\n",
      "\n",
      "\n",
      "\n",
      "\n"
     ]
    },
    {
     "name": "stderr",
     "output_type": "stream",
     "text": [
      "\n"
     ]
    }
   ],
   "source": [
    "statements = [\"Kids are talking by the door\", \"Dogs are sitting by the door\"]\n",
    "\n",
    "for statement in statements: \n",
    "    Test = Valid[Valid[\"Statement\"] == statement]\n",
    "    testset = myDataset(Test, src, emotion, transform)\n",
    "    testloader = DataLoader(testset, batch_size=2, collate_fn=collate_fn, shuffle=False)\n",
    "\n",
    "    lbl_list, out_list = [], []\n",
    "    for inputs, labels in tqdm(testloader):\n",
    "        inputs, labels = inputs.to(device), labels.to(device)\n",
    "        output = model(inputs).argmax(dim=1, keepdim=True)\n",
    "        lbl_list.extend(labels)\n",
    "        out_list.extend(output)\n",
    "\n",
    "    pred = [reverse_emotion[x.item()] for x in out_list]\n",
    "    true = [reverse_emotion[x.item()] for x in lbl_list]\n",
    "\n",
    "    print(\"CONFUSION MATRIX for '{}'\\n\".format(statement))\n",
    "    print(metrics.confusion_matrix(true, pred))\n",
    "    print(\"\\n\\nCLASSIFICATION REPORT for '{}'\\n\".format(statement))\n",
    "    print(metrics.classification_report(true, pred, digits=3));\n",
    "    print(\"\\n\\n\")"
   ]
  },
  {
   "cell_type": "code",
   "execution_count": null,
   "id": "c0157fa1",
   "metadata": {
    "papermill": {
     "duration": 0.039716,
     "end_time": "2022-05-02T10:04:46.123102",
     "exception": false,
     "start_time": "2022-05-02T10:04:46.083386",
     "status": "completed"
    },
    "tags": []
   },
   "outputs": [],
   "source": []
  }
 ],
 "metadata": {
  "kernelspec": {
   "display_name": "Python 3",
   "language": "python",
   "name": "python3"
  },
  "language_info": {
   "codemirror_mode": {
    "name": "ipython",
    "version": 3
   },
   "file_extension": ".py",
   "mimetype": "text/x-python",
   "name": "python",
   "nbconvert_exporter": "python",
   "pygments_lexer": "ipython3",
   "version": "3.8.8"
  },
  "papermill": {
   "default_parameters": {},
   "duration": 234.367123,
   "end_time": "2022-05-02T10:04:47.686436",
   "environment_variables": {},
   "exception": null,
   "input_path": "__notebook__.ipynb",
   "output_path": "__notebook__.ipynb",
   "parameters": {},
   "start_time": "2022-05-02T10:00:53.319313",
   "version": "2.3.4"
  }
 },
 "nbformat": 4,
 "nbformat_minor": 5
}
